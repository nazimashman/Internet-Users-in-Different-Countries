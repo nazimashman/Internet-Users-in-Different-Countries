{
 "cells": [
  {
   "cell_type": "code",
   "execution_count": 48,
   "metadata": {},
   "outputs": [],
   "source": [
    "# Necessary imports\n",
    "import pandas as pd\n",
    "import numpy as np\n",
    "import statsmodels.api as sm\n",
    "import statsmodels.formula.api as smf\n",
    "import patsy\n",
    "import pickle\n",
    "from scipy import stats\n",
    "\n",
    "import seaborn as sns\n",
    "import matplotlib.pyplot as plt\n",
    "from sklearn.linear_model import LinearRegression\n",
    "from sklearn.linear_model import RidgeCV\n",
    "import sklearn\n",
    "from sklearn.model_selection import train_test_split\n",
    "from sklearn.preprocessing import PolynomialFeatures\n",
    "from sklearn.preprocessing import MinMaxScaler\n",
    "from sklearn.cross_validation import cross_val_score\n",
    "from sklearn.metrics import mean_squared_error\n",
    "\n",
    "%matplotlib inline"
   ]
  },
  {
   "cell_type": "code",
   "execution_count": 49,
   "metadata": {},
   "outputs": [],
   "source": [
    "# This notebook shows me going through each feature and checking if the residuals are normal.\n",
    "\n",
    "with open(\"initial_df.pkl\", 'rb') as picklefile: \n",
    "    df = pickle.load(picklefile)\n"
   ]
  },
  {
   "cell_type": "code",
   "execution_count": 50,
   "metadata": {},
   "outputs": [
    {
     "data": {
      "text/html": [
       "<div>\n",
       "<style scoped>\n",
       "    .dataframe tbody tr th:only-of-type {\n",
       "        vertical-align: middle;\n",
       "    }\n",
       "\n",
       "    .dataframe tbody tr th {\n",
       "        vertical-align: top;\n",
       "    }\n",
       "\n",
       "    .dataframe thead th {\n",
       "        text-align: right;\n",
       "    }\n",
       "</style>\n",
       "<table border=\"1\" class=\"dataframe\">\n",
       "  <thead>\n",
       "    <tr style=\"text-align: right;\">\n",
       "      <th></th>\n",
       "      <th>education_exp</th>\n",
       "      <th>gdp_per_capita</th>\n",
       "      <th>internet_users</th>\n",
       "      <th>pop_below_pov</th>\n",
       "      <th>population</th>\n",
       "      <th>public_debt</th>\n",
       "      <th>unemp_rate</th>\n",
       "      <th>urbanization</th>\n",
       "      <th>agr</th>\n",
       "      <th>ind</th>\n",
       "      <th>border_internet_scaled</th>\n",
       "      <th>total_trade</th>\n",
       "      <th>total_tel</th>\n",
       "    </tr>\n",
       "  </thead>\n",
       "  <tbody>\n",
       "    <tr>\n",
       "      <th>count</th>\n",
       "      <td>148.000000</td>\n",
       "      <td>148.000000</td>\n",
       "      <td>148.000000</td>\n",
       "      <td>148.000000</td>\n",
       "      <td>1.480000e+02</td>\n",
       "      <td>148.000000</td>\n",
       "      <td>148.000000</td>\n",
       "      <td>148.000000</td>\n",
       "      <td>148.000000</td>\n",
       "      <td>148.000000</td>\n",
       "      <td>1.480000e+02</td>\n",
       "      <td>148.000000</td>\n",
       "      <td>1.480000e+02</td>\n",
       "    </tr>\n",
       "    <tr>\n",
       "      <th>mean</th>\n",
       "      <td>4.887162</td>\n",
       "      <td>20832.432432</td>\n",
       "      <td>0.516328</td>\n",
       "      <td>25.114118</td>\n",
       "      <td>3.594151e+07</td>\n",
       "      <td>57.086486</td>\n",
       "      <td>10.614865</td>\n",
       "      <td>59.538514</td>\n",
       "      <td>11.007432</td>\n",
       "      <td>27.106757</td>\n",
       "      <td>4.877504e-01</td>\n",
       "      <td>10416.410434</td>\n",
       "      <td>1.142238e+00</td>\n",
       "    </tr>\n",
       "    <tr>\n",
       "      <th>std</th>\n",
       "      <td>1.800388</td>\n",
       "      <td>21434.739481</td>\n",
       "      <td>0.270613</td>\n",
       "      <td>16.546580</td>\n",
       "      <td>1.139644e+08</td>\n",
       "      <td>31.849409</td>\n",
       "      <td>10.740016</td>\n",
       "      <td>23.025577</td>\n",
       "      <td>10.969110</td>\n",
       "      <td>10.386455</td>\n",
       "      <td>2.386971e-01</td>\n",
       "      <td>19553.217667</td>\n",
       "      <td>5.825333e-01</td>\n",
       "    </tr>\n",
       "    <tr>\n",
       "      <th>min</th>\n",
       "      <td>1.100000</td>\n",
       "      <td>1200.000000</td>\n",
       "      <td>0.041865</td>\n",
       "      <td>0.000000</td>\n",
       "      <td>1.708700e+04</td>\n",
       "      <td>0.000000</td>\n",
       "      <td>0.300000</td>\n",
       "      <td>16.400000</td>\n",
       "      <td>0.000000</td>\n",
       "      <td>4.800000</td>\n",
       "      <td>8.507587e-07</td>\n",
       "      <td>175.159249</td>\n",
       "      <td>5.980065e-07</td>\n",
       "    </tr>\n",
       "    <tr>\n",
       "      <th>25%</th>\n",
       "      <td>3.600000</td>\n",
       "      <td>5225.000000</td>\n",
       "      <td>0.259172</td>\n",
       "      <td>14.275000</td>\n",
       "      <td>2.682152e+06</td>\n",
       "      <td>36.200000</td>\n",
       "      <td>4.400000</td>\n",
       "      <td>40.550000</td>\n",
       "      <td>2.675000</td>\n",
       "      <td>20.175000</td>\n",
       "      <td>2.815654e-01</td>\n",
       "      <td>1224.802464</td>\n",
       "      <td>7.962782e-01</td>\n",
       "    </tr>\n",
       "    <tr>\n",
       "      <th>50%</th>\n",
       "      <td>4.750000</td>\n",
       "      <td>12750.000000</td>\n",
       "      <td>0.527990</td>\n",
       "      <td>21.800000</td>\n",
       "      <td>9.700296e+06</td>\n",
       "      <td>52.650000</td>\n",
       "      <td>6.950000</td>\n",
       "      <td>60.200000</td>\n",
       "      <td>7.500000</td>\n",
       "      <td>26.400000</td>\n",
       "      <td>5.212311e-01</td>\n",
       "      <td>3111.016759</td>\n",
       "      <td>1.243463e+00</td>\n",
       "    </tr>\n",
       "    <tr>\n",
       "      <th>75%</th>\n",
       "      <td>5.725000</td>\n",
       "      <td>29500.000000</td>\n",
       "      <td>0.757902</td>\n",
       "      <td>32.250000</td>\n",
       "      <td>2.932878e+07</td>\n",
       "      <td>71.325000</td>\n",
       "      <td>11.725000</td>\n",
       "      <td>77.825000</td>\n",
       "      <td>15.425000</td>\n",
       "      <td>33.025000</td>\n",
       "      <td>6.972638e-01</td>\n",
       "      <td>11645.589931</td>\n",
       "      <td>1.517760e+00</td>\n",
       "    </tr>\n",
       "    <tr>\n",
       "      <th>max</th>\n",
       "      <td>12.500000</td>\n",
       "      <td>124500.000000</td>\n",
       "      <td>0.971214</td>\n",
       "      <td>82.500000</td>\n",
       "      <td>1.281936e+09</td>\n",
       "      <td>236.400000</td>\n",
       "      <td>77.000000</td>\n",
       "      <td>100.000000</td>\n",
       "      <td>60.700000</td>\n",
       "      <td>61.400000</td>\n",
       "      <td>9.459491e-01</td>\n",
       "      <td>146770.431716</td>\n",
       "      <td>3.143597e+00</td>\n",
       "    </tr>\n",
       "  </tbody>\n",
       "</table>\n",
       "</div>"
      ],
      "text/plain": [
       "       education_exp  gdp_per_capita  internet_users  pop_below_pov  \\\n",
       "count     148.000000      148.000000      148.000000     148.000000   \n",
       "mean        4.887162    20832.432432        0.516328      25.114118   \n",
       "std         1.800388    21434.739481        0.270613      16.546580   \n",
       "min         1.100000     1200.000000        0.041865       0.000000   \n",
       "25%         3.600000     5225.000000        0.259172      14.275000   \n",
       "50%         4.750000    12750.000000        0.527990      21.800000   \n",
       "75%         5.725000    29500.000000        0.757902      32.250000   \n",
       "max        12.500000   124500.000000        0.971214      82.500000   \n",
       "\n",
       "         population  public_debt  unemp_rate  urbanization         agr  \\\n",
       "count  1.480000e+02   148.000000  148.000000    148.000000  148.000000   \n",
       "mean   3.594151e+07    57.086486   10.614865     59.538514   11.007432   \n",
       "std    1.139644e+08    31.849409   10.740016     23.025577   10.969110   \n",
       "min    1.708700e+04     0.000000    0.300000     16.400000    0.000000   \n",
       "25%    2.682152e+06    36.200000    4.400000     40.550000    2.675000   \n",
       "50%    9.700296e+06    52.650000    6.950000     60.200000    7.500000   \n",
       "75%    2.932878e+07    71.325000   11.725000     77.825000   15.425000   \n",
       "max    1.281936e+09   236.400000   77.000000    100.000000   60.700000   \n",
       "\n",
       "              ind  border_internet_scaled    total_trade     total_tel  \n",
       "count  148.000000            1.480000e+02     148.000000  1.480000e+02  \n",
       "mean    27.106757            4.877504e-01   10416.410434  1.142238e+00  \n",
       "std     10.386455            2.386971e-01   19553.217667  5.825333e-01  \n",
       "min      4.800000            8.507587e-07     175.159249  5.980065e-07  \n",
       "25%     20.175000            2.815654e-01    1224.802464  7.962782e-01  \n",
       "50%     26.400000            5.212311e-01    3111.016759  1.243463e+00  \n",
       "75%     33.025000            6.972638e-01   11645.589931  1.517760e+00  \n",
       "max     61.400000            9.459491e-01  146770.431716  3.143597e+00  "
      ]
     },
     "execution_count": 50,
     "metadata": {},
     "output_type": "execute_result"
    }
   ],
   "source": [
    "df.describe()"
   ]
  },
  {
   "cell_type": "code",
   "execution_count": 51,
   "metadata": {},
   "outputs": [
    {
     "data": {
      "text/html": [
       "<div>\n",
       "<style scoped>\n",
       "    .dataframe tbody tr th:only-of-type {\n",
       "        vertical-align: middle;\n",
       "    }\n",
       "\n",
       "    .dataframe tbody tr th {\n",
       "        vertical-align: top;\n",
       "    }\n",
       "\n",
       "    .dataframe thead th {\n",
       "        text-align: right;\n",
       "    }\n",
       "</style>\n",
       "<table border=\"1\" class=\"dataframe\">\n",
       "  <thead>\n",
       "    <tr style=\"text-align: right;\">\n",
       "      <th></th>\n",
       "      <th>education_exp</th>\n",
       "      <th>gdp_per_capita</th>\n",
       "      <th>internet_users</th>\n",
       "      <th>pop_below_pov</th>\n",
       "      <th>population</th>\n",
       "      <th>public_debt</th>\n",
       "      <th>unemp_rate</th>\n",
       "      <th>urbanization</th>\n",
       "      <th>agr</th>\n",
       "      <th>ind</th>\n",
       "      <th>border_internet_scaled</th>\n",
       "      <th>total_trade</th>\n",
       "      <th>total_tel</th>\n",
       "    </tr>\n",
       "    <tr>\n",
       "      <th>Country</th>\n",
       "      <th></th>\n",
       "      <th></th>\n",
       "      <th></th>\n",
       "      <th></th>\n",
       "      <th></th>\n",
       "      <th></th>\n",
       "      <th></th>\n",
       "      <th></th>\n",
       "      <th></th>\n",
       "      <th></th>\n",
       "      <th></th>\n",
       "      <th></th>\n",
       "      <th></th>\n",
       "    </tr>\n",
       "  </thead>\n",
       "  <tbody>\n",
       "    <tr>\n",
       "      <th>Switzerland</th>\n",
       "      <td>5.1</td>\n",
       "      <td>61400.0</td>\n",
       "      <td>0.887867</td>\n",
       "      <td>6.6</td>\n",
       "      <td>8236303.0</td>\n",
       "      <td>42.8</td>\n",
       "      <td>3.0</td>\n",
       "      <td>73.8</td>\n",
       "      <td>0.7</td>\n",
       "      <td>25.6</td>\n",
       "      <td>0.800442</td>\n",
       "      <td>75701.440319</td>\n",
       "      <td>0.445893</td>\n",
       "    </tr>\n",
       "    <tr>\n",
       "      <th>Niger</th>\n",
       "      <td>6.0</td>\n",
       "      <td>1200.0</td>\n",
       "      <td>0.041865</td>\n",
       "      <td>45.4</td>\n",
       "      <td>19245344.0</td>\n",
       "      <td>46.5</td>\n",
       "      <td>2.6</td>\n",
       "      <td>16.4</td>\n",
       "      <td>41.5</td>\n",
       "      <td>18.1</td>\n",
       "      <td>0.243596</td>\n",
       "      <td>175.159249</td>\n",
       "      <td>0.462098</td>\n",
       "    </tr>\n",
       "    <tr>\n",
       "      <th>Egypt</th>\n",
       "      <td>3.8</td>\n",
       "      <td>12700.0</td>\n",
       "      <td>0.382545</td>\n",
       "      <td>27.8</td>\n",
       "      <td>97041072.0</td>\n",
       "      <td>103.3</td>\n",
       "      <td>11.9</td>\n",
       "      <td>42.7</td>\n",
       "      <td>11.9</td>\n",
       "      <td>33.1</td>\n",
       "      <td>0.335194</td>\n",
       "      <td>788.841244</td>\n",
       "      <td>1.129038</td>\n",
       "    </tr>\n",
       "    <tr>\n",
       "      <th>Turkmenistan</th>\n",
       "      <td>3.0</td>\n",
       "      <td>18100.0</td>\n",
       "      <td>0.177887</td>\n",
       "      <td>0.2</td>\n",
       "      <td>5351277.0</td>\n",
       "      <td>28.8</td>\n",
       "      <td>11.0</td>\n",
       "      <td>51.6</td>\n",
       "      <td>7.5</td>\n",
       "      <td>44.9</td>\n",
       "      <td>0.191081</td>\n",
       "      <td>2278.895299</td>\n",
       "      <td>0.124271</td>\n",
       "    </tr>\n",
       "    <tr>\n",
       "      <th>Canada</th>\n",
       "      <td>5.3</td>\n",
       "      <td>48300.0</td>\n",
       "      <td>0.891823</td>\n",
       "      <td>9.4</td>\n",
       "      <td>35623680.0</td>\n",
       "      <td>89.7</td>\n",
       "      <td>6.5</td>\n",
       "      <td>81.4</td>\n",
       "      <td>1.7</td>\n",
       "      <td>28.1</td>\n",
       "      <td>0.755633</td>\n",
       "      <td>24610.034674</td>\n",
       "      <td>1.295752</td>\n",
       "    </tr>\n",
       "  </tbody>\n",
       "</table>\n",
       "</div>"
      ],
      "text/plain": [
       "              education_exp  gdp_per_capita  internet_users  pop_below_pov  \\\n",
       "Country                                                                      \n",
       "Switzerland             5.1         61400.0        0.887867            6.6   \n",
       "Niger                   6.0          1200.0        0.041865           45.4   \n",
       "Egypt                   3.8         12700.0        0.382545           27.8   \n",
       "Turkmenistan            3.0         18100.0        0.177887            0.2   \n",
       "Canada                  5.3         48300.0        0.891823            9.4   \n",
       "\n",
       "              population  public_debt  unemp_rate  urbanization   agr   ind  \\\n",
       "Country                                                                       \n",
       "Switzerland    8236303.0         42.8         3.0          73.8   0.7  25.6   \n",
       "Niger         19245344.0         46.5         2.6          16.4  41.5  18.1   \n",
       "Egypt         97041072.0        103.3        11.9          42.7  11.9  33.1   \n",
       "Turkmenistan   5351277.0         28.8        11.0          51.6   7.5  44.9   \n",
       "Canada        35623680.0         89.7         6.5          81.4   1.7  28.1   \n",
       "\n",
       "              border_internet_scaled   total_trade  total_tel  \n",
       "Country                                                        \n",
       "Switzerland                 0.800442  75701.440319   0.445893  \n",
       "Niger                       0.243596    175.159249   0.462098  \n",
       "Egypt                       0.335194    788.841244   1.129038  \n",
       "Turkmenistan                0.191081   2278.895299   0.124271  \n",
       "Canada                      0.755633  24610.034674   1.295752  "
      ]
     },
     "execution_count": 51,
     "metadata": {},
     "output_type": "execute_result"
    }
   ],
   "source": [
    "df = df.dropna()\n",
    "df_train,df_test = train_test_split(df, test_size=0.2, random_state = 1)\n",
    "df_train.head()\n"
   ]
  },
  {
   "cell_type": "code",
   "execution_count": 52,
   "metadata": {},
   "outputs": [
    {
     "data": {
      "text/html": [
       "<table class=\"simpletable\">\n",
       "<caption>OLS Regression Results</caption>\n",
       "<tr>\n",
       "  <th>Dep. Variable:</th>     <td>internet_users</td>  <th>  R-squared:         </th> <td>   0.780</td>\n",
       "</tr>\n",
       "<tr>\n",
       "  <th>Model:</th>                   <td>OLS</td>       <th>  Adj. R-squared:    </th> <td>   0.772</td>\n",
       "</tr>\n",
       "<tr>\n",
       "  <th>Method:</th>             <td>Least Squares</td>  <th>  F-statistic:       </th> <td>   99.97</td>\n",
       "</tr>\n",
       "<tr>\n",
       "  <th>Date:</th>             <td>Fri, 12 Oct 2018</td> <th>  Prob (F-statistic):</th> <td>3.44e-36</td>\n",
       "</tr>\n",
       "<tr>\n",
       "  <th>Time:</th>                 <td>13:47:27</td>     <th>  Log-Likelihood:    </th> <td>  72.818</td>\n",
       "</tr>\n",
       "<tr>\n",
       "  <th>No. Observations:</th>      <td>   118</td>      <th>  AIC:               </th> <td>  -135.6</td>\n",
       "</tr>\n",
       "<tr>\n",
       "  <th>Df Residuals:</th>          <td>   113</td>      <th>  BIC:               </th> <td>  -121.8</td>\n",
       "</tr>\n",
       "<tr>\n",
       "  <th>Df Model:</th>              <td>     4</td>      <th>                     </th>     <td> </td>   \n",
       "</tr>\n",
       "<tr>\n",
       "  <th>Covariance Type:</th>      <td>nonrobust</td>    <th>                     </th>     <td> </td>   \n",
       "</tr>\n",
       "</table>\n",
       "<table class=\"simpletable\">\n",
       "<tr>\n",
       "             <td></td>               <th>coef</th>     <th>std err</th>      <th>t</th>      <th>P>|t|</th>  <th>[0.025</th>    <th>0.975]</th>  \n",
       "</tr>\n",
       "<tr>\n",
       "  <th>Intercept</th>              <td>    0.4932</td> <td>    0.050</td> <td>    9.804</td> <td> 0.000</td> <td>    0.393</td> <td>    0.593</td>\n",
       "</tr>\n",
       "<tr>\n",
       "  <th>agr</th>                    <td>   -0.0101</td> <td>    0.002</td> <td>   -6.140</td> <td> 0.000</td> <td>   -0.013</td> <td>   -0.007</td>\n",
       "</tr>\n",
       "<tr>\n",
       "  <th>gdp_per_capita</th>         <td> 3.354e-06</td> <td>  7.8e-07</td> <td>    4.301</td> <td> 0.000</td> <td> 1.81e-06</td> <td>  4.9e-06</td>\n",
       "</tr>\n",
       "<tr>\n",
       "  <th>border_internet_scaled</th> <td>    0.3002</td> <td>    0.066</td> <td>    4.550</td> <td> 0.000</td> <td>    0.169</td> <td>    0.431</td>\n",
       "</tr>\n",
       "<tr>\n",
       "  <th>pop_below_pov</th>          <td>   -0.0032</td> <td>    0.001</td> <td>   -3.517</td> <td> 0.001</td> <td>   -0.005</td> <td>   -0.001</td>\n",
       "</tr>\n",
       "</table>\n",
       "<table class=\"simpletable\">\n",
       "<tr>\n",
       "  <th>Omnibus:</th>       <td> 2.616</td> <th>  Durbin-Watson:     </th> <td>   2.124</td>\n",
       "</tr>\n",
       "<tr>\n",
       "  <th>Prob(Omnibus):</th> <td> 0.270</td> <th>  Jarque-Bera (JB):  </th> <td>   2.138</td>\n",
       "</tr>\n",
       "<tr>\n",
       "  <th>Skew:</th>          <td>-0.199</td> <th>  Prob(JB):          </th> <td>   0.343</td>\n",
       "</tr>\n",
       "<tr>\n",
       "  <th>Kurtosis:</th>      <td> 3.526</td> <th>  Cond. No.          </th> <td>1.95e+05</td>\n",
       "</tr>\n",
       "</table><br/><br/>Warnings:<br/>[1] Standard Errors assume that the covariance matrix of the errors is correctly specified.<br/>[2] The condition number is large, 1.95e+05. This might indicate that there are<br/>strong multicollinearity or other numerical problems."
      ],
      "text/plain": [
       "<class 'statsmodels.iolib.summary.Summary'>\n",
       "\"\"\"\n",
       "                            OLS Regression Results                            \n",
       "==============================================================================\n",
       "Dep. Variable:         internet_users   R-squared:                       0.780\n",
       "Model:                            OLS   Adj. R-squared:                  0.772\n",
       "Method:                 Least Squares   F-statistic:                     99.97\n",
       "Date:                Fri, 12 Oct 2018   Prob (F-statistic):           3.44e-36\n",
       "Time:                        13:47:27   Log-Likelihood:                 72.818\n",
       "No. Observations:                 118   AIC:                            -135.6\n",
       "Df Residuals:                     113   BIC:                            -121.8\n",
       "Df Model:                           4                                         \n",
       "Covariance Type:            nonrobust                                         \n",
       "==========================================================================================\n",
       "                             coef    std err          t      P>|t|      [0.025      0.975]\n",
       "------------------------------------------------------------------------------------------\n",
       "Intercept                  0.4932      0.050      9.804      0.000       0.393       0.593\n",
       "agr                       -0.0101      0.002     -6.140      0.000      -0.013      -0.007\n",
       "gdp_per_capita          3.354e-06    7.8e-07      4.301      0.000    1.81e-06     4.9e-06\n",
       "border_internet_scaled     0.3002      0.066      4.550      0.000       0.169       0.431\n",
       "pop_below_pov             -0.0032      0.001     -3.517      0.001      -0.005      -0.001\n",
       "==============================================================================\n",
       "Omnibus:                        2.616   Durbin-Watson:                   2.124\n",
       "Prob(Omnibus):                  0.270   Jarque-Bera (JB):                2.138\n",
       "Skew:                          -0.199   Prob(JB):                        0.343\n",
       "Kurtosis:                       3.526   Cond. No.                     1.95e+05\n",
       "==============================================================================\n",
       "\n",
       "Warnings:\n",
       "[1] Standard Errors assume that the covariance matrix of the errors is correctly specified.\n",
       "[2] The condition number is large, 1.95e+05. This might indicate that there are\n",
       "strong multicollinearity or other numerical problems.\n",
       "\"\"\""
      ]
     },
     "execution_count": 52,
     "metadata": {},
     "output_type": "execute_result"
    }
   ],
   "source": [
    "y, X = patsy.dmatrices('internet_users ~ agr + gdp_per_capita + border_internet_scaled +pop_below_pov', data=df_train, return_type=\"dataframe\")\n",
    "\n",
    "model = sm.OLS(y, X)\n",
    "fit = model.fit()\n",
    "\n",
    "fit.summary()"
   ]
  },
  {
   "cell_type": "code",
   "execution_count": 53,
   "metadata": {},
   "outputs": [
    {
     "data": {
      "text/html": [
       "<table class=\"simpletable\">\n",
       "<caption>OLS Regression Results</caption>\n",
       "<tr>\n",
       "  <th>Dep. Variable:</th>     <td>internet_users</td>  <th>  R-squared:         </th> <td>   0.569</td>\n",
       "</tr>\n",
       "<tr>\n",
       "  <th>Model:</th>                   <td>OLS</td>       <th>  Adj. R-squared:    </th> <td>   0.565</td>\n",
       "</tr>\n",
       "<tr>\n",
       "  <th>Method:</th>             <td>Least Squares</td>  <th>  F-statistic:       </th> <td>   152.9</td>\n",
       "</tr>\n",
       "<tr>\n",
       "  <th>Date:</th>             <td>Fri, 12 Oct 2018</td> <th>  Prob (F-statistic):</th> <td>6.44e-23</td>\n",
       "</tr>\n",
       "<tr>\n",
       "  <th>Time:</th>                 <td>13:47:28</td>     <th>  Log-Likelihood:    </th> <td>  33.180</td>\n",
       "</tr>\n",
       "<tr>\n",
       "  <th>No. Observations:</th>      <td>   118</td>      <th>  AIC:               </th> <td>  -62.36</td>\n",
       "</tr>\n",
       "<tr>\n",
       "  <th>Df Residuals:</th>          <td>   116</td>      <th>  BIC:               </th> <td>  -56.82</td>\n",
       "</tr>\n",
       "<tr>\n",
       "  <th>Df Model:</th>              <td>     1</td>      <th>                     </th>     <td> </td>   \n",
       "</tr>\n",
       "<tr>\n",
       "  <th>Covariance Type:</th>      <td>nonrobust</td>    <th>                     </th>     <td> </td>   \n",
       "</tr>\n",
       "</table>\n",
       "<table class=\"simpletable\">\n",
       "<tr>\n",
       "      <td></td>         <th>coef</th>     <th>std err</th>      <th>t</th>      <th>P>|t|</th>  <th>[0.025</th>    <th>0.975]</th>  \n",
       "</tr>\n",
       "<tr>\n",
       "  <th>Intercept</th> <td>    0.7463</td> <td>    0.025</td> <td>   30.127</td> <td> 0.000</td> <td>    0.697</td> <td>    0.795</td>\n",
       "</tr>\n",
       "<tr>\n",
       "  <th>agr</th>       <td>   -0.0210</td> <td>    0.002</td> <td>  -12.366</td> <td> 0.000</td> <td>   -0.024</td> <td>   -0.018</td>\n",
       "</tr>\n",
       "</table>\n",
       "<table class=\"simpletable\">\n",
       "<tr>\n",
       "  <th>Omnibus:</th>       <td> 5.874</td> <th>  Durbin-Watson:     </th> <td>   1.870</td>\n",
       "</tr>\n",
       "<tr>\n",
       "  <th>Prob(Omnibus):</th> <td> 0.053</td> <th>  Jarque-Bera (JB):  </th> <td>   5.656</td>\n",
       "</tr>\n",
       "<tr>\n",
       "  <th>Skew:</th>          <td>-0.535</td> <th>  Prob(JB):          </th> <td>  0.0591</td>\n",
       "</tr>\n",
       "<tr>\n",
       "  <th>Kurtosis:</th>      <td> 3.083</td> <th>  Cond. No.          </th> <td>    21.4</td>\n",
       "</tr>\n",
       "</table><br/><br/>Warnings:<br/>[1] Standard Errors assume that the covariance matrix of the errors is correctly specified."
      ],
      "text/plain": [
       "<class 'statsmodels.iolib.summary.Summary'>\n",
       "\"\"\"\n",
       "                            OLS Regression Results                            \n",
       "==============================================================================\n",
       "Dep. Variable:         internet_users   R-squared:                       0.569\n",
       "Model:                            OLS   Adj. R-squared:                  0.565\n",
       "Method:                 Least Squares   F-statistic:                     152.9\n",
       "Date:                Fri, 12 Oct 2018   Prob (F-statistic):           6.44e-23\n",
       "Time:                        13:47:28   Log-Likelihood:                 33.180\n",
       "No. Observations:                 118   AIC:                            -62.36\n",
       "Df Residuals:                     116   BIC:                            -56.82\n",
       "Df Model:                           1                                         \n",
       "Covariance Type:            nonrobust                                         \n",
       "==============================================================================\n",
       "                 coef    std err          t      P>|t|      [0.025      0.975]\n",
       "------------------------------------------------------------------------------\n",
       "Intercept      0.7463      0.025     30.127      0.000       0.697       0.795\n",
       "agr           -0.0210      0.002    -12.366      0.000      -0.024      -0.018\n",
       "==============================================================================\n",
       "Omnibus:                        5.874   Durbin-Watson:                   1.870\n",
       "Prob(Omnibus):                  0.053   Jarque-Bera (JB):                5.656\n",
       "Skew:                          -0.535   Prob(JB):                       0.0591\n",
       "Kurtosis:                       3.083   Cond. No.                         21.4\n",
       "==============================================================================\n",
       "\n",
       "Warnings:\n",
       "[1] Standard Errors assume that the covariance matrix of the errors is correctly specified.\n",
       "\"\"\""
      ]
     },
     "execution_count": 53,
     "metadata": {},
     "output_type": "execute_result"
    }
   ],
   "source": [
    "y, X = patsy.dmatrices('internet_users ~ agr', data=df_train, return_type=\"dataframe\")\n",
    "\n",
    "model = sm.OLS(y, X)\n",
    "fit = model.fit()\n",
    "\n",
    "fit.summary()\n"
   ]
  },
  {
   "cell_type": "code",
   "execution_count": 54,
   "metadata": {
    "scrolled": true
   },
   "outputs": [
    {
     "data": {
      "text/plain": [
       "<matplotlib.collections.PathCollection at 0x1c1bdc9cf8>"
      ]
     },
     "execution_count": 54,
     "metadata": {},
     "output_type": "execute_result"
    },
    {
     "data": {
      "image/png": "[encoded data removed]",
      "text/plain": [
       "<Figure size 432x288 with 1 Axes>"
      ]
     },
     "metadata": {},
     "output_type": "display_data"
    }
   ],
   "source": [
    "plt.scatter(X.agr,y)\n",
    "plt.scatter(X.agr,fit.predict(X))"
   ]
  },
  {
   "cell_type": "code",
   "execution_count": 55,
   "metadata": {
    "scrolled": true
   },
   "outputs": [
    {
     "data": {
      "text/plain": [
       "<matplotlib.collections.PathCollection at 0x1c1be27128>"
      ]
     },
     "execution_count": 55,
     "metadata": {},
     "output_type": "execute_result"
    },
    {
     "data": {
      "image/png": "[encoded data removed]",
      "text/plain": [
       "<Figure size 432x288 with 1 Axes>"
      ]
     },
     "metadata": {},
     "output_type": "display_data"
    }
   ],
   "source": [
    "plt.scatter(fit.predict(X),fit.predict(X) - y['internet_users'])"
   ]
  },
  {
   "cell_type": "code",
   "execution_count": 56,
   "metadata": {},
   "outputs": [
    {
     "data": {
      "text/plain": [
       "<matplotlib.axes._subplots.AxesSubplot at 0x1c1beaa828>"
      ]
     },
     "execution_count": 56,
     "metadata": {},
     "output_type": "execute_result"
    },
    {
     "data": {
      "image/png": "[encoded data removed]",
      "text/plain": [
       "<Figure size 432x288 with 1 Axes>"
      ]
     },
     "metadata": {},
     "output_type": "display_data"
    }
   ],
   "source": [
    "(fit.predict(X) - y['internet_users']).hist()"
   ]
  },
  {
   "cell_type": "code",
   "execution_count": 57,
   "metadata": {},
   "outputs": [
    {
     "data": {
      "image/png": "[encoded data removed]",
      "text/plain": [
       "<Figure size 432x288 with 1 Axes>"
      ]
     },
     "metadata": {},
     "output_type": "display_data"
    }
   ],
   "source": [
    "stats.probplot(fit.predict(X) - y['internet_users'], dist=\"norm\", plot=plt)\n",
    "plt.title(\"Normal Q-Q plot\")\n",
    "plt.show()"
   ]
  },
  {
   "cell_type": "code",
   "execution_count": 58,
   "metadata": {},
   "outputs": [
    {
     "data": {
      "text/plain": [
       "<matplotlib.axes._subplots.AxesSubplot at 0x1c1a469ef0>"
      ]
     },
     "execution_count": 58,
     "metadata": {},
     "output_type": "execute_result"
    },
    {
     "data": {
      "image/png": "[encoded data removed]",
      "text/plain": [
       "<Figure size 432x288 with 1 Axes>"
      ]
     },
     "metadata": {},
     "output_type": "display_data"
    }
   ],
   "source": [
    "df.agr.hist()"
   ]
  },
  {
   "cell_type": "code",
   "execution_count": 61,
   "metadata": {},
   "outputs": [
    {
     "data": {
      "text/plain": [
       "<matplotlib.axes._subplots.AxesSubplot at 0x1c1c1ade48>"
      ]
     },
     "execution_count": 61,
     "metadata": {},
     "output_type": "execute_result"
    },
    {
     "data": {
      "image/png": "[encoded data removed]",
      "text/plain": [
       "<Figure size 432x288 with 1 Axes>"
      ]
     },
     "metadata": {},
     "output_type": "display_data"
    }
   ],
   "source": [
    "# Try log plot\n",
    "\n",
    "df['agr']=df['agr'].replace(0,0.0000001)\n",
    "np.log(df.agr).hist()"
   ]
  },
  {
   "cell_type": "code",
   "execution_count": 62,
   "metadata": {},
   "outputs": [
    {
     "name": "stdout",
     "output_type": "stream",
     "text": [
      "0.29798671287924\n"
     ]
    },
    {
     "data": {
      "image/png": "[encoded data removed]",
      "text/plain": [
       "<Figure size 432x288 with 1 Axes>"
      ]
     },
     "metadata": {},
     "output_type": "display_data"
    }
   ],
   "source": [
    "# Try boxcox\n",
    "\n",
    "from scipy import stats\n",
    "\n",
    "lamb=stats.boxcox_normmax(df.agr)\n",
    "print(lamb)\n",
    "y_t=(np.power(df.agr,lamb)-1)/lamb\n",
    "\n",
    "plt.hist(y_t);"
   ]
  },
  {
   "cell_type": "code",
   "execution_count": 63,
   "metadata": {
    "scrolled": true
   },
   "outputs": [
    {
     "name": "stderr",
     "output_type": "stream",
     "text": [
      "/Users/nazim/anaconda3/lib/python3.6/site-packages/ipykernel_launcher.py:1: SettingWithCopyWarning: \n",
      "A value is trying to be set on a copy of a slice from a DataFrame.\n",
      "Try using .loc[row_indexer,col_indexer] = value instead\n",
      "\n",
      "See the caveats in the documentation: http://pandas.pydata.org/pandas-docs/stable/indexing.html#indexing-view-versus-copy\n",
      "  \"\"\"Entry point for launching an IPython kernel.\n"
     ]
    }
   ],
   "source": [
    "df_train['agr'] = y_t"
   ]
  },
  {
   "cell_type": "code",
   "execution_count": 65,
   "metadata": {},
   "outputs": [],
   "source": [
    "# Restandardise after transformation\n",
    "\n",
    "# Standardise the data by compressing it between 0 and 1.\n",
    "\n",
    "scaler = MinMaxScaler()\n",
    "scaler.fit(df_train)\n",
    "df_train_scaled = pd.DataFrame(scaler.transform(df_train))\n",
    "df_train_scaled.columns = df_train.columns\n",
    "df_train_scaled.index = df_train.index\n",
    "\n",
    "df_train_scaled.head()\n",
    "\n",
    "\n",
    "# Standardide the test data by transforming using the fit from the train data.\n",
    "\n",
    "df_test_scaled = pd.DataFrame(scaler.transform(df_test))\n",
    "df_test_scaled.columns = df_test.columns\n",
    "df_test_scaled.index = df_test.index\n",
    "\n",
    "df_test_scaled.head()\n",
    "\n",
    "y_test = df_test_scaled.internet_users\n",
    "X_test = df_test_scaled.drop(columns=['internet_users'])\n"
   ]
  },
  {
   "cell_type": "code",
   "execution_count": 66,
   "metadata": {},
   "outputs": [
    {
     "data": {
      "text/html": [
       "<table class=\"simpletable\">\n",
       "<caption>OLS Regression Results</caption>\n",
       "<tr>\n",
       "  <th>Dep. Variable:</th>     <td>internet_users</td>  <th>  R-squared:         </th> <td>   0.641</td>\n",
       "</tr>\n",
       "<tr>\n",
       "  <th>Model:</th>                   <td>OLS</td>       <th>  Adj. R-squared:    </th> <td>   0.637</td>\n",
       "</tr>\n",
       "<tr>\n",
       "  <th>Method:</th>             <td>Least Squares</td>  <th>  F-statistic:       </th> <td>   206.7</td>\n",
       "</tr>\n",
       "<tr>\n",
       "  <th>Date:</th>             <td>Fri, 12 Oct 2018</td> <th>  Prob (F-statistic):</th> <td>1.56e-27</td>\n",
       "</tr>\n",
       "<tr>\n",
       "  <th>Time:</th>                 <td>13:48:15</td>     <th>  Log-Likelihood:    </th> <td>  35.290</td>\n",
       "</tr>\n",
       "<tr>\n",
       "  <th>No. Observations:</th>      <td>   118</td>      <th>  AIC:               </th> <td>  -66.58</td>\n",
       "</tr>\n",
       "<tr>\n",
       "  <th>Df Residuals:</th>          <td>   116</td>      <th>  BIC:               </th> <td>  -61.04</td>\n",
       "</tr>\n",
       "<tr>\n",
       "  <th>Df Model:</th>              <td>     1</td>      <th>                     </th>     <td> </td>   \n",
       "</tr>\n",
       "<tr>\n",
       "  <th>Covariance Type:</th>      <td>nonrobust</td>    <th>                     </th>     <td> </td>   \n",
       "</tr>\n",
       "</table>\n",
       "<table class=\"simpletable\">\n",
       "<tr>\n",
       "      <td></td>         <th>coef</th>     <th>std err</th>      <th>t</th>      <th>P>|t|</th>  <th>[0.025</th>    <th>0.975]</th>  \n",
       "</tr>\n",
       "<tr>\n",
       "  <th>Intercept</th> <td>    1.2172</td> <td>    0.051</td> <td>   23.670</td> <td> 0.000</td> <td>    1.115</td> <td>    1.319</td>\n",
       "</tr>\n",
       "<tr>\n",
       "  <th>agr</th>       <td>   -1.1765</td> <td>    0.082</td> <td>  -14.377</td> <td> 0.000</td> <td>   -1.339</td> <td>   -1.014</td>\n",
       "</tr>\n",
       "</table>\n",
       "<table class=\"simpletable\">\n",
       "<tr>\n",
       "  <th>Omnibus:</th>       <td> 5.003</td> <th>  Durbin-Watson:     </th> <td>   1.949</td>\n",
       "</tr>\n",
       "<tr>\n",
       "  <th>Prob(Omnibus):</th> <td> 0.082</td> <th>  Jarque-Bera (JB):  </th> <td>   4.875</td>\n",
       "</tr>\n",
       "<tr>\n",
       "  <th>Skew:</th>          <td>-0.322</td> <th>  Prob(JB):          </th> <td>  0.0874</td>\n",
       "</tr>\n",
       "<tr>\n",
       "  <th>Kurtosis:</th>      <td> 3.760</td> <th>  Cond. No.          </th> <td>    6.70</td>\n",
       "</tr>\n",
       "</table><br/><br/>Warnings:<br/>[1] Standard Errors assume that the covariance matrix of the errors is correctly specified."
      ],
      "text/plain": [
       "<class 'statsmodels.iolib.summary.Summary'>\n",
       "\"\"\"\n",
       "                            OLS Regression Results                            \n",
       "==============================================================================\n",
       "Dep. Variable:         internet_users   R-squared:                       0.641\n",
       "Model:                            OLS   Adj. R-squared:                  0.637\n",
       "Method:                 Least Squares   F-statistic:                     206.7\n",
       "Date:                Fri, 12 Oct 2018   Prob (F-statistic):           1.56e-27\n",
       "Time:                        13:48:15   Log-Likelihood:                 35.290\n",
       "No. Observations:                 118   AIC:                            -66.58\n",
       "Df Residuals:                     116   BIC:                            -61.04\n",
       "Df Model:                           1                                         \n",
       "Covariance Type:            nonrobust                                         \n",
       "==============================================================================\n",
       "                 coef    std err          t      P>|t|      [0.025      0.975]\n",
       "------------------------------------------------------------------------------\n",
       "Intercept      1.2172      0.051     23.670      0.000       1.115       1.319\n",
       "agr           -1.1765      0.082    -14.377      0.000      -1.339      -1.014\n",
       "==============================================================================\n",
       "Omnibus:                        5.003   Durbin-Watson:                   1.949\n",
       "Prob(Omnibus):                  0.082   Jarque-Bera (JB):                4.875\n",
       "Skew:                          -0.322   Prob(JB):                       0.0874\n",
       "Kurtosis:                       3.760   Cond. No.                         6.70\n",
       "==============================================================================\n",
       "\n",
       "Warnings:\n",
       "[1] Standard Errors assume that the covariance matrix of the errors is correctly specified.\n",
       "\"\"\""
      ]
     },
     "execution_count": 66,
     "metadata": {},
     "output_type": "execute_result"
    }
   ],
   "source": [
    "\n",
    "\n",
    "y, X = patsy.dmatrices('internet_users ~ agr', data=df_train_scaled, return_type=\"dataframe\")\n",
    "\n",
    "model = sm.OLS(y, X)\n",
    "fit = model.fit()\n",
    "\n",
    "fit.summary()\n",
    "\n"
   ]
  },
  {
   "cell_type": "code",
   "execution_count": 67,
   "metadata": {},
   "outputs": [
    {
     "data": {
      "text/plain": [
       "<matplotlib.collections.PathCollection at 0x1c1bd887b8>"
      ]
     },
     "execution_count": 67,
     "metadata": {},
     "output_type": "execute_result"
    },
    {
     "data": {
      "image/png": "[encoded data removed]",
      "text/plain": [
       "<Figure size 432x288 with 1 Axes>"
      ]
     },
     "metadata": {},
     "output_type": "display_data"
    }
   ],
   "source": [
    "plt.scatter(X.agr,y)\n",
    "plt.scatter(X.agr,fit.predict(X))"
   ]
  },
  {
   "cell_type": "code",
   "execution_count": 68,
   "metadata": {},
   "outputs": [
    {
     "data": {
      "text/plain": [
       "<matplotlib.collections.PathCollection at 0x1c1c2a55f8>"
      ]
     },
     "execution_count": 68,
     "metadata": {},
     "output_type": "execute_result"
    },
    {
     "data": {
      "image/png": "[encoded data removed]",
      "text/plain": [
       "<Figure size 432x288 with 1 Axes>"
      ]
     },
     "metadata": {},
     "output_type": "display_data"
    }
   ],
   "source": [
    "plt.scatter(fit.predict(X),fit.predict(X) - y['internet_users'])"
   ]
  },
  {
   "cell_type": "code",
   "execution_count": 69,
   "metadata": {},
   "outputs": [
    {
     "data": {
      "image/png": "[encoded data removed]",
      "text/plain": [
       "<Figure size 432x288 with 1 Axes>"
      ]
     },
     "metadata": {},
     "output_type": "display_data"
    }
   ],
   "source": [
    "stats.probplot(fit.predict(X) - y['internet_users'], dist=\"norm\", plot=plt)\n",
    "plt.title(\"Normal Q-Q plot\")\n",
    "plt.show()"
   ]
  },
  {
   "cell_type": "code",
   "execution_count": 70,
   "metadata": {},
   "outputs": [
    {
     "data": {
      "text/html": [
       "<table class=\"simpletable\">\n",
       "<caption>OLS Regression Results</caption>\n",
       "<tr>\n",
       "  <th>Dep. Variable:</th>     <td>internet_users</td>  <th>  R-squared:         </th> <td>   0.567</td>\n",
       "</tr>\n",
       "<tr>\n",
       "  <th>Model:</th>                   <td>OLS</td>       <th>  Adj. R-squared:    </th> <td>   0.563</td>\n",
       "</tr>\n",
       "<tr>\n",
       "  <th>Method:</th>             <td>Least Squares</td>  <th>  F-statistic:       </th> <td>   151.8</td>\n",
       "</tr>\n",
       "<tr>\n",
       "  <th>Date:</th>             <td>Fri, 12 Oct 2018</td> <th>  Prob (F-statistic):</th> <td>8.20e-23</td>\n",
       "</tr>\n",
       "<tr>\n",
       "  <th>Time:</th>                 <td>13:48:17</td>     <th>  Log-Likelihood:    </th> <td>  24.290</td>\n",
       "</tr>\n",
       "<tr>\n",
       "  <th>No. Observations:</th>      <td>   118</td>      <th>  AIC:               </th> <td>  -44.58</td>\n",
       "</tr>\n",
       "<tr>\n",
       "  <th>Df Residuals:</th>          <td>   116</td>      <th>  BIC:               </th> <td>  -39.04</td>\n",
       "</tr>\n",
       "<tr>\n",
       "  <th>Df Model:</th>              <td>     1</td>      <th>                     </th>     <td> </td>   \n",
       "</tr>\n",
       "<tr>\n",
       "  <th>Covariance Type:</th>      <td>nonrobust</td>    <th>                     </th>     <td> </td>   \n",
       "</tr>\n",
       "</table>\n",
       "<table class=\"simpletable\">\n",
       "<tr>\n",
       "         <td></td>           <th>coef</th>     <th>std err</th>      <th>t</th>      <th>P>|t|</th>  <th>[0.025</th>    <th>0.975]</th>  \n",
       "</tr>\n",
       "<tr>\n",
       "  <th>Intercept</th>      <td>    0.3143</td> <td>    0.025</td> <td>   12.754</td> <td> 0.000</td> <td>    0.265</td> <td>    0.363</td>\n",
       "</tr>\n",
       "<tr>\n",
       "  <th>gdp_per_capita</th> <td>    1.2219</td> <td>    0.099</td> <td>   12.321</td> <td> 0.000</td> <td>    1.025</td> <td>    1.418</td>\n",
       "</tr>\n",
       "</table>\n",
       "<table class=\"simpletable\">\n",
       "<tr>\n",
       "  <th>Omnibus:</th>       <td> 1.015</td> <th>  Durbin-Watson:     </th> <td>   2.149</td>\n",
       "</tr>\n",
       "<tr>\n",
       "  <th>Prob(Omnibus):</th> <td> 0.602</td> <th>  Jarque-Bera (JB):  </th> <td>   0.640</td>\n",
       "</tr>\n",
       "<tr>\n",
       "  <th>Skew:</th>          <td>-0.157</td> <th>  Prob(JB):          </th> <td>   0.726</td>\n",
       "</tr>\n",
       "<tr>\n",
       "  <th>Kurtosis:</th>      <td> 3.177</td> <th>  Cond. No.          </th> <td>    5.58</td>\n",
       "</tr>\n",
       "</table><br/><br/>Warnings:<br/>[1] Standard Errors assume that the covariance matrix of the errors is correctly specified."
      ],
      "text/plain": [
       "<class 'statsmodels.iolib.summary.Summary'>\n",
       "\"\"\"\n",
       "                            OLS Regression Results                            \n",
       "==============================================================================\n",
       "Dep. Variable:         internet_users   R-squared:                       0.567\n",
       "Model:                            OLS   Adj. R-squared:                  0.563\n",
       "Method:                 Least Squares   F-statistic:                     151.8\n",
       "Date:                Fri, 12 Oct 2018   Prob (F-statistic):           8.20e-23\n",
       "Time:                        13:48:17   Log-Likelihood:                 24.290\n",
       "No. Observations:                 118   AIC:                            -44.58\n",
       "Df Residuals:                     116   BIC:                            -39.04\n",
       "Df Model:                           1                                         \n",
       "Covariance Type:            nonrobust                                         \n",
       "==================================================================================\n",
       "                     coef    std err          t      P>|t|      [0.025      0.975]\n",
       "----------------------------------------------------------------------------------\n",
       "Intercept          0.3143      0.025     12.754      0.000       0.265       0.363\n",
       "gdp_per_capita     1.2219      0.099     12.321      0.000       1.025       1.418\n",
       "==============================================================================\n",
       "Omnibus:                        1.015   Durbin-Watson:                   2.149\n",
       "Prob(Omnibus):                  0.602   Jarque-Bera (JB):                0.640\n",
       "Skew:                          -0.157   Prob(JB):                        0.726\n",
       "Kurtosis:                       3.177   Cond. No.                         5.58\n",
       "==============================================================================\n",
       "\n",
       "Warnings:\n",
       "[1] Standard Errors assume that the covariance matrix of the errors is correctly specified.\n",
       "\"\"\""
      ]
     },
     "execution_count": 70,
     "metadata": {},
     "output_type": "execute_result"
    }
   ],
   "source": [
    "y, X = patsy.dmatrices('internet_users ~ gdp_per_capita', data=df_train_scaled, return_type=\"dataframe\")\n",
    "\n",
    "model = sm.OLS(y, X)\n",
    "fit = model.fit()\n",
    "\n",
    "fit.summary()\n"
   ]
  },
  {
   "cell_type": "code",
   "execution_count": 71,
   "metadata": {},
   "outputs": [
    {
     "data": {
      "text/plain": [
       "<matplotlib.collections.PathCollection at 0x1c1c4e0518>"
      ]
     },
     "execution_count": 71,
     "metadata": {},
     "output_type": "execute_result"
    },
    {
     "data": {
      "image/png": "[encoded data removed]",
      "text/plain": [
       "<Figure size 432x288 with 1 Axes>"
      ]
     },
     "metadata": {},
     "output_type": "display_data"
    }
   ],
   "source": [
    "plt.scatter(X.gdp_per_capita,y)\n",
    "plt.scatter(X.gdp_per_capita,fit.predict(X))"
   ]
  },
  {
   "cell_type": "code",
   "execution_count": 68,
   "metadata": {
    "scrolled": true
   },
   "outputs": [
    {
     "data": {
      "text/plain": [
       "<matplotlib.collections.PathCollection at 0x1c1db1feb8>"
      ]
     },
     "execution_count": 68,
     "metadata": {},
     "output_type": "execute_result"
    },
    {
     "data": {
      "image/png": "[encoded data removed]",
      "text/plain": [
       "<Figure size 432x288 with 1 Axes>"
      ]
     },
     "metadata": {},
     "output_type": "display_data"
    }
   ],
   "source": [
    "plt.scatter(fit.predict(X),fit.predict(X) - y['internet_users'])"
   ]
  },
  {
   "cell_type": "code",
   "execution_count": 69,
   "metadata": {},
   "outputs": [
    {
     "data": {
      "image/png": "[encoded data removed]",
      "text/plain": [
       "<Figure size 432x288 with 1 Axes>"
      ]
     },
     "metadata": {},
     "output_type": "display_data"
    }
   ],
   "source": [
    "stats.probplot(fit.predict(X) - y['internet_users'], dist=\"norm\", plot=plt)\n",
    "plt.title(\"Normal Q-Q plot\")\n",
    "plt.show()"
   ]
  },
  {
   "cell_type": "code",
   "execution_count": 70,
   "metadata": {
    "scrolled": true
   },
   "outputs": [
    {
     "data": {
      "text/plain": [
       "<matplotlib.axes._subplots.AxesSubplot at 0x1c1dc56518>"
      ]
     },
     "execution_count": 70,
     "metadata": {},
     "output_type": "execute_result"
    },
    {
     "data": {
      "image/png": "[encoded data removed]",
      "text/plain": [
       "<Figure size 432x288 with 1 Axes>"
      ]
     },
     "metadata": {},
     "output_type": "display_data"
    }
   ],
   "source": [
    "df.gdp_per_capita.hist()"
   ]
  },
  {
   "cell_type": "code",
   "execution_count": 71,
   "metadata": {},
   "outputs": [
    {
     "name": "stdout",
     "output_type": "stream",
     "text": [
      "0.14454432533690276\n"
     ]
    },
    {
     "data": {
      "image/png": "[encoded data removed]",
      "text/plain": [
       "<Figure size 432x288 with 1 Axes>"
      ]
     },
     "metadata": {},
     "output_type": "display_data"
    }
   ],
   "source": [
    "# Try boxcox\n",
    "\n",
    "from scipy import stats\n",
    "\n",
    "lamb=stats.boxcox_normmax(df.gdp_per_capita)\n",
    "print(lamb)\n",
    "y_t=(np.power(df.gdp_per_capita,lamb)-1)/lamb\n",
    "\n",
    "plt.hist(y_t);"
   ]
  },
  {
   "cell_type": "code",
   "execution_count": 72,
   "metadata": {},
   "outputs": [
    {
     "name": "stderr",
     "output_type": "stream",
     "text": [
      "/Users/nazim/anaconda3/lib/python3.6/site-packages/ipykernel_launcher.py:1: SettingWithCopyWarning: \n",
      "A value is trying to be set on a copy of a slice from a DataFrame.\n",
      "Try using .loc[row_indexer,col_indexer] = value instead\n",
      "\n",
      "See the caveats in the documentation: http://pandas.pydata.org/pandas-docs/stable/indexing.html#indexing-view-versus-copy\n",
      "  \"\"\"Entry point for launching an IPython kernel.\n"
     ]
    },
    {
     "data": {
      "text/html": [
       "<div>\n",
       "<style scoped>\n",
       "    .dataframe tbody tr th:only-of-type {\n",
       "        vertical-align: middle;\n",
       "    }\n",
       "\n",
       "    .dataframe tbody tr th {\n",
       "        vertical-align: top;\n",
       "    }\n",
       "\n",
       "    .dataframe thead th {\n",
       "        text-align: right;\n",
       "    }\n",
       "</style>\n",
       "<table border=\"1\" class=\"dataframe\">\n",
       "  <thead>\n",
       "    <tr style=\"text-align: right;\">\n",
       "      <th></th>\n",
       "      <th>internet_users</th>\n",
       "      <th>agr</th>\n",
       "      <th>gdp_per_capita</th>\n",
       "      <th>border_internet_scaled</th>\n",
       "      <th>pop_below_pov</th>\n",
       "    </tr>\n",
       "    <tr>\n",
       "      <th>Country</th>\n",
       "      <th></th>\n",
       "      <th></th>\n",
       "      <th></th>\n",
       "      <th></th>\n",
       "      <th></th>\n",
       "    </tr>\n",
       "  </thead>\n",
       "  <tbody>\n",
       "    <tr>\n",
       "      <th>Zimbabwe</th>\n",
       "      <td>0.241265</td>\n",
       "      <td>0.612907</td>\n",
       "      <td>0.148876</td>\n",
       "      <td>0.399974</td>\n",
       "      <td>0.876364</td>\n",
       "    </tr>\n",
       "    <tr>\n",
       "      <th>Moldova</th>\n",
       "      <td>0.734099</td>\n",
       "      <td>0.608225</td>\n",
       "      <td>0.296288</td>\n",
       "      <td>0.566217</td>\n",
       "      <td>0.116364</td>\n",
       "    </tr>\n",
       "    <tr>\n",
       "      <th>Turkmenistan</th>\n",
       "      <td>0.172888</td>\n",
       "      <td>0.521616</td>\n",
       "      <td>0.514238</td>\n",
       "      <td>0.196744</td>\n",
       "      <td>0.002424</td>\n",
       "    </tr>\n",
       "    <tr>\n",
       "      <th>Thailand</th>\n",
       "      <td>0.480443</td>\n",
       "      <td>0.536523</td>\n",
       "      <td>0.511964</td>\n",
       "      <td>0.400558</td>\n",
       "      <td>0.087273</td>\n",
       "    </tr>\n",
       "    <tr>\n",
       "      <th>Senegal</th>\n",
       "      <td>0.248470</td>\n",
       "      <td>0.674112</td>\n",
       "      <td>0.173533</td>\n",
       "      <td>0.110695</td>\n",
       "      <td>0.566061</td>\n",
       "    </tr>\n",
       "  </tbody>\n",
       "</table>\n",
       "</div>"
      ],
      "text/plain": [
       "              internet_users       agr  gdp_per_capita  \\\n",
       "Country                                                  \n",
       "Zimbabwe            0.241265  0.612907        0.148876   \n",
       "Moldova             0.734099  0.608225        0.296288   \n",
       "Turkmenistan        0.172888  0.521616        0.514238   \n",
       "Thailand            0.480443  0.536523        0.511964   \n",
       "Senegal             0.248470  0.674112        0.173533   \n",
       "\n",
       "              border_internet_scaled  pop_below_pov  \n",
       "Country                                              \n",
       "Zimbabwe                    0.399974       0.876364  \n",
       "Moldova                     0.566217       0.116364  \n",
       "Turkmenistan                0.196744       0.002424  \n",
       "Thailand                    0.400558       0.087273  \n",
       "Senegal                     0.110695       0.566061  "
      ]
     },
     "execution_count": 72,
     "metadata": {},
     "output_type": "execute_result"
    }
   ],
   "source": [
    "df_train['gdp_per_capita'] = y_t\n",
    "\n",
    "# Standardise the data by compressing it between 0 and 1.\n",
    "\n",
    "scaler = MinMaxScaler()\n",
    "scaler.fit(df_train)\n",
    "df_train_scaled = pd.DataFrame(scaler.transform(df_train))\n",
    "df_train_scaled.columns = df_train.columns\n",
    "df_train_scaled.index = df_train.index\n",
    "\n",
    "df_train_scaled.head()"
   ]
  },
  {
   "cell_type": "code",
   "execution_count": 73,
   "metadata": {},
   "outputs": [
    {
     "data": {
      "text/html": [
       "<table class=\"simpletable\">\n",
       "<caption>OLS Regression Results</caption>\n",
       "<tr>\n",
       "  <th>Dep. Variable:</th>     <td>internet_users</td>  <th>  R-squared:         </th> <td>   0.783</td>\n",
       "</tr>\n",
       "<tr>\n",
       "  <th>Model:</th>                   <td>OLS</td>       <th>  Adj. R-squared:    </th> <td>   0.781</td>\n",
       "</tr>\n",
       "<tr>\n",
       "  <th>Method:</th>             <td>Least Squares</td>  <th>  F-statistic:       </th> <td>   544.5</td>\n",
       "</tr>\n",
       "<tr>\n",
       "  <th>Date:</th>             <td>Thu, 11 Oct 2018</td> <th>  Prob (F-statistic):</th> <td>6.10e-52</td>\n",
       "</tr>\n",
       "<tr>\n",
       "  <th>Time:</th>                 <td>17:31:26</td>     <th>  Log-Likelihood:    </th> <td>  92.301</td>\n",
       "</tr>\n",
       "<tr>\n",
       "  <th>No. Observations:</th>      <td>   153</td>      <th>  AIC:               </th> <td>  -180.6</td>\n",
       "</tr>\n",
       "<tr>\n",
       "  <th>Df Residuals:</th>          <td>   151</td>      <th>  BIC:               </th> <td>  -174.5</td>\n",
       "</tr>\n",
       "<tr>\n",
       "  <th>Df Model:</th>              <td>     1</td>      <th>                     </th>     <td> </td>   \n",
       "</tr>\n",
       "<tr>\n",
       "  <th>Covariance Type:</th>      <td>nonrobust</td>    <th>                     </th>     <td> </td>   \n",
       "</tr>\n",
       "</table>\n",
       "<table class=\"simpletable\">\n",
       "<tr>\n",
       "         <td></td>           <th>coef</th>     <th>std err</th>      <th>t</th>      <th>P>|t|</th>  <th>[0.025</th>    <th>0.975]</th>  \n",
       "</tr>\n",
       "<tr>\n",
       "  <th>Intercept</th>      <td>    0.0157</td> <td>    0.024</td> <td>    0.652</td> <td> 0.515</td> <td>   -0.032</td> <td>    0.063</td>\n",
       "</tr>\n",
       "<tr>\n",
       "  <th>gdp_per_capita</th> <td>    1.0941</td> <td>    0.047</td> <td>   23.334</td> <td> 0.000</td> <td>    1.001</td> <td>    1.187</td>\n",
       "</tr>\n",
       "</table>\n",
       "<table class=\"simpletable\">\n",
       "<tr>\n",
       "  <th>Omnibus:</th>       <td> 5.277</td> <th>  Durbin-Watson:     </th> <td>   1.964</td>\n",
       "</tr>\n",
       "<tr>\n",
       "  <th>Prob(Omnibus):</th> <td> 0.071</td> <th>  Jarque-Bera (JB):  </th> <td>   4.827</td>\n",
       "</tr>\n",
       "<tr>\n",
       "  <th>Skew:</th>          <td>-0.373</td> <th>  Prob(JB):          </th> <td>  0.0895</td>\n",
       "</tr>\n",
       "<tr>\n",
       "  <th>Kurtosis:</th>      <td> 3.448</td> <th>  Cond. No.          </th> <td>    5.31</td>\n",
       "</tr>\n",
       "</table><br/><br/>Warnings:<br/>[1] Standard Errors assume that the covariance matrix of the errors is correctly specified."
      ],
      "text/plain": [
       "<class 'statsmodels.iolib.summary.Summary'>\n",
       "\"\"\"\n",
       "                            OLS Regression Results                            \n",
       "==============================================================================\n",
       "Dep. Variable:         internet_users   R-squared:                       0.783\n",
       "Model:                            OLS   Adj. R-squared:                  0.781\n",
       "Method:                 Least Squares   F-statistic:                     544.5\n",
       "Date:                Thu, 11 Oct 2018   Prob (F-statistic):           6.10e-52\n",
       "Time:                        17:31:26   Log-Likelihood:                 92.301\n",
       "No. Observations:                 153   AIC:                            -180.6\n",
       "Df Residuals:                     151   BIC:                            -174.5\n",
       "Df Model:                           1                                         \n",
       "Covariance Type:            nonrobust                                         \n",
       "==================================================================================\n",
       "                     coef    std err          t      P>|t|      [0.025      0.975]\n",
       "----------------------------------------------------------------------------------\n",
       "Intercept          0.0157      0.024      0.652      0.515      -0.032       0.063\n",
       "gdp_per_capita     1.0941      0.047     23.334      0.000       1.001       1.187\n",
       "==============================================================================\n",
       "Omnibus:                        5.277   Durbin-Watson:                   1.964\n",
       "Prob(Omnibus):                  0.071   Jarque-Bera (JB):                4.827\n",
       "Skew:                          -0.373   Prob(JB):                       0.0895\n",
       "Kurtosis:                       3.448   Cond. No.                         5.31\n",
       "==============================================================================\n",
       "\n",
       "Warnings:\n",
       "[1] Standard Errors assume that the covariance matrix of the errors is correctly specified.\n",
       "\"\"\""
      ]
     },
     "execution_count": 73,
     "metadata": {},
     "output_type": "execute_result"
    }
   ],
   "source": [
    "y, X = patsy.dmatrices('internet_users ~ gdp_per_capita', data=df_train_scaled, return_type=\"dataframe\")\n",
    "\n",
    "model = sm.OLS(y, X)\n",
    "fit = model.fit()\n",
    "fit.summary()\n"
   ]
  },
  {
   "cell_type": "code",
   "execution_count": 74,
   "metadata": {},
   "outputs": [
    {
     "data": {
      "text/plain": [
       "<matplotlib.collections.PathCollection at 0x1c1dc39dd8>"
      ]
     },
     "execution_count": 74,
     "metadata": {},
     "output_type": "execute_result"
    },
    {
     "data": {
      "image/png": "[encoded data removed]",
      "text/plain": [
       "<Figure size 432x288 with 1 Axes>"
      ]
     },
     "metadata": {},
     "output_type": "display_data"
    }
   ],
   "source": [
    "plt.scatter(X.gdp_per_capita,y)\n",
    "plt.scatter(X.gdp_per_capita,fit.predict(X))"
   ]
  },
  {
   "cell_type": "code",
   "execution_count": 75,
   "metadata": {},
   "outputs": [
    {
     "data": {
      "text/plain": [
       "<matplotlib.axes._subplots.AxesSubplot at 0x1c1dd334a8>"
      ]
     },
     "execution_count": 75,
     "metadata": {},
     "output_type": "execute_result"
    },
    {
     "data": {
      "image/png": "[encoded data removed]",
      "text/plain": [
       "<Figure size 432x288 with 1 Axes>"
      ]
     },
     "metadata": {},
     "output_type": "display_data"
    }
   ],
   "source": [
    "(y['internet_users']-fit.predict(X)).hist()"
   ]
  },
  {
   "cell_type": "code",
   "execution_count": 76,
   "metadata": {
    "scrolled": true
   },
   "outputs": [
    {
     "data": {
      "image/png": "[encoded data removed]",
      "text/plain": [
       "<Figure size 432x288 with 1 Axes>"
      ]
     },
     "metadata": {},
     "output_type": "display_data"
    }
   ],
   "source": [
    "stats.probplot(fit.predict(X) - y['internet_users'], dist=\"norm\", plot=plt)\n",
    "plt.title(\"Normal Q-Q plot\")\n",
    "plt.show()"
   ]
  },
  {
   "cell_type": "code",
   "execution_count": 1240,
   "metadata": {},
   "outputs": [
    {
     "data": {
      "text/html": [
       "<table class=\"simpletable\">\n",
       "<caption>OLS Regression Results</caption>\n",
       "<tr>\n",
       "  <th>Dep. Variable:</th>     <td>internet_users</td>  <th>  R-squared:         </th> <td>   0.374</td>\n",
       "</tr>\n",
       "<tr>\n",
       "  <th>Model:</th>                   <td>OLS</td>       <th>  Adj. R-squared:    </th> <td>   0.369</td>\n",
       "</tr>\n",
       "<tr>\n",
       "  <th>Method:</th>             <td>Least Squares</td>  <th>  F-statistic:       </th> <td>   90.05</td>\n",
       "</tr>\n",
       "<tr>\n",
       "  <th>Date:</th>             <td>Wed, 10 Oct 2018</td> <th>  Prob (F-statistic):</th> <td>4.84e-17</td>\n",
       "</tr>\n",
       "<tr>\n",
       "  <th>Time:</th>                 <td>22:00:43</td>     <th>  Log-Likelihood:    </th> <td>  11.244</td>\n",
       "</tr>\n",
       "<tr>\n",
       "  <th>No. Observations:</th>      <td>   153</td>      <th>  AIC:               </th> <td>  -18.49</td>\n",
       "</tr>\n",
       "<tr>\n",
       "  <th>Df Residuals:</th>          <td>   151</td>      <th>  BIC:               </th> <td>  -12.43</td>\n",
       "</tr>\n",
       "<tr>\n",
       "  <th>Df Model:</th>              <td>     1</td>      <th>                     </th>     <td> </td>   \n",
       "</tr>\n",
       "<tr>\n",
       "  <th>Covariance Type:</th>      <td>nonrobust</td>    <th>                     </th>     <td> </td>   \n",
       "</tr>\n",
       "</table>\n",
       "<table class=\"simpletable\">\n",
       "<tr>\n",
       "             <td></td>               <th>coef</th>     <th>std err</th>      <th>t</th>      <th>P>|t|</th>  <th>[0.025</th>    <th>0.975]</th>  \n",
       "</tr>\n",
       "<tr>\n",
       "  <th>Intercept</th>              <td>    0.1544</td> <td>    0.043</td> <td>    3.631</td> <td> 0.000</td> <td>    0.070</td> <td>    0.238</td>\n",
       "</tr>\n",
       "<tr>\n",
       "  <th>border_internet_scaled</th> <td>    0.7218</td> <td>    0.076</td> <td>    9.490</td> <td> 0.000</td> <td>    0.572</td> <td>    0.872</td>\n",
       "</tr>\n",
       "</table>\n",
       "<table class=\"simpletable\">\n",
       "<tr>\n",
       "  <th>Omnibus:</th>       <td> 1.799</td> <th>  Durbin-Watson:     </th> <td>   2.051</td>\n",
       "</tr>\n",
       "<tr>\n",
       "  <th>Prob(Omnibus):</th> <td> 0.407</td> <th>  Jarque-Bera (JB):  </th> <td>   1.698</td>\n",
       "</tr>\n",
       "<tr>\n",
       "  <th>Skew:</th>          <td> 0.257</td> <th>  Prob(JB):          </th> <td>   0.428</td>\n",
       "</tr>\n",
       "<tr>\n",
       "  <th>Kurtosis:</th>      <td> 2.949</td> <th>  Cond. No.          </th> <td>    5.27</td>\n",
       "</tr>\n",
       "</table><br/><br/>Warnings:<br/>[1] Standard Errors assume that the covariance matrix of the errors is correctly specified."
      ],
      "text/plain": [
       "<class 'statsmodels.iolib.summary.Summary'>\n",
       "\"\"\"\n",
       "                            OLS Regression Results                            \n",
       "==============================================================================\n",
       "Dep. Variable:         internet_users   R-squared:                       0.374\n",
       "Model:                            OLS   Adj. R-squared:                  0.369\n",
       "Method:                 Least Squares   F-statistic:                     90.05\n",
       "Date:                Wed, 10 Oct 2018   Prob (F-statistic):           4.84e-17\n",
       "Time:                        22:00:43   Log-Likelihood:                 11.244\n",
       "No. Observations:                 153   AIC:                            -18.49\n",
       "Df Residuals:                     151   BIC:                            -12.43\n",
       "Df Model:                           1                                         \n",
       "Covariance Type:            nonrobust                                         \n",
       "==========================================================================================\n",
       "                             coef    std err          t      P>|t|      [0.025      0.975]\n",
       "------------------------------------------------------------------------------------------\n",
       "Intercept                  0.1544      0.043      3.631      0.000       0.070       0.238\n",
       "border_internet_scaled     0.7218      0.076      9.490      0.000       0.572       0.872\n",
       "==============================================================================\n",
       "Omnibus:                        1.799   Durbin-Watson:                   2.051\n",
       "Prob(Omnibus):                  0.407   Jarque-Bera (JB):                1.698\n",
       "Skew:                           0.257   Prob(JB):                        0.428\n",
       "Kurtosis:                       2.949   Cond. No.                         5.27\n",
       "==============================================================================\n",
       "\n",
       "Warnings:\n",
       "[1] Standard Errors assume that the covariance matrix of the errors is correctly specified.\n",
       "\"\"\""
      ]
     },
     "execution_count": 1240,
     "metadata": {},
     "output_type": "execute_result"
    }
   ],
   "source": [
    "y, X = patsy.dmatrices('internet_users ~ border_internet_scaled', data=df_train_scaled, return_type=\"dataframe\")\n",
    "\n",
    "model = sm.OLS(y, X)\n",
    "fit = model.fit()\n",
    "\n",
    "fit.summary()\n",
    "\n",
    "# Omnibus for this feature is already good."
   ]
  },
  {
   "cell_type": "code",
   "execution_count": 1241,
   "metadata": {},
   "outputs": [
    {
     "data": {
      "text/plain": [
       "<matplotlib.collections.PathCollection at 0x1c2f63a668>"
      ]
     },
     "execution_count": 1241,
     "metadata": {},
     "output_type": "execute_result"
    },
    {
     "data": {
      "image/png": "[encoded data removed]",
      "text/plain": [
       "<Figure size 432x288 with 1 Axes>"
      ]
     },
     "metadata": {},
     "output_type": "display_data"
    }
   ],
   "source": [
    "plt.scatter(X.border_internet_scaled,y)\n",
    "plt.scatter(X.border_internet_scaled,fit.predict(X))"
   ]
  },
  {
   "cell_type": "code",
   "execution_count": 1242,
   "metadata": {},
   "outputs": [
    {
     "data": {
      "text/html": [
       "<table class=\"simpletable\">\n",
       "<caption>OLS Regression Results</caption>\n",
       "<tr>\n",
       "  <th>Dep. Variable:</th>     <td>internet_users</td>  <th>  R-squared:         </th> <td>   0.416</td>\n",
       "</tr>\n",
       "<tr>\n",
       "  <th>Model:</th>                   <td>OLS</td>       <th>  Adj. R-squared:    </th> <td>   0.412</td>\n",
       "</tr>\n",
       "<tr>\n",
       "  <th>Method:</th>             <td>Least Squares</td>  <th>  F-statistic:       </th> <td>   107.4</td>\n",
       "</tr>\n",
       "<tr>\n",
       "  <th>Date:</th>             <td>Wed, 10 Oct 2018</td> <th>  Prob (F-statistic):</th> <td>2.38e-19</td>\n",
       "</tr>\n",
       "<tr>\n",
       "  <th>Time:</th>                 <td>22:00:43</td>     <th>  Log-Likelihood:    </th> <td>  16.576</td>\n",
       "</tr>\n",
       "<tr>\n",
       "  <th>No. Observations:</th>      <td>   153</td>      <th>  AIC:               </th> <td>  -29.15</td>\n",
       "</tr>\n",
       "<tr>\n",
       "  <th>Df Residuals:</th>          <td>   151</td>      <th>  BIC:               </th> <td>  -23.09</td>\n",
       "</tr>\n",
       "<tr>\n",
       "  <th>Df Model:</th>              <td>     1</td>      <th>                     </th>     <td> </td>   \n",
       "</tr>\n",
       "<tr>\n",
       "  <th>Covariance Type:</th>      <td>nonrobust</td>    <th>                     </th>     <td> </td>   \n",
       "</tr>\n",
       "</table>\n",
       "<table class=\"simpletable\">\n",
       "<tr>\n",
       "        <td></td>           <th>coef</th>     <th>std err</th>      <th>t</th>      <th>P>|t|</th>  <th>[0.025</th>    <th>0.975]</th>  \n",
       "</tr>\n",
       "<tr>\n",
       "  <th>Intercept</th>     <td>    0.7885</td> <td>    0.031</td> <td>   25.067</td> <td> 0.000</td> <td>    0.726</td> <td>    0.851</td>\n",
       "</tr>\n",
       "<tr>\n",
       "  <th>pop_below_pov</th> <td>   -0.8722</td> <td>    0.084</td> <td>  -10.366</td> <td> 0.000</td> <td>   -1.038</td> <td>   -0.706</td>\n",
       "</tr>\n",
       "</table>\n",
       "<table class=\"simpletable\">\n",
       "<tr>\n",
       "  <th>Omnibus:</th>       <td> 2.912</td> <th>  Durbin-Watson:     </th> <td>   1.979</td>\n",
       "</tr>\n",
       "<tr>\n",
       "  <th>Prob(Omnibus):</th> <td> 0.233</td> <th>  Jarque-Bera (JB):  </th> <td>   2.478</td>\n",
       "</tr>\n",
       "<tr>\n",
       "  <th>Skew:</th>          <td>-0.204</td> <th>  Prob(JB):          </th> <td>   0.290</td>\n",
       "</tr>\n",
       "<tr>\n",
       "  <th>Kurtosis:</th>      <td> 2.528</td> <th>  Cond. No.          </th> <td>    5.24</td>\n",
       "</tr>\n",
       "</table><br/><br/>Warnings:<br/>[1] Standard Errors assume that the covariance matrix of the errors is correctly specified."
      ],
      "text/plain": [
       "<class 'statsmodels.iolib.summary.Summary'>\n",
       "\"\"\"\n",
       "                            OLS Regression Results                            \n",
       "==============================================================================\n",
       "Dep. Variable:         internet_users   R-squared:                       0.416\n",
       "Model:                            OLS   Adj. R-squared:                  0.412\n",
       "Method:                 Least Squares   F-statistic:                     107.4\n",
       "Date:                Wed, 10 Oct 2018   Prob (F-statistic):           2.38e-19\n",
       "Time:                        22:00:43   Log-Likelihood:                 16.576\n",
       "No. Observations:                 153   AIC:                            -29.15\n",
       "Df Residuals:                     151   BIC:                            -23.09\n",
       "Df Model:                           1                                         \n",
       "Covariance Type:            nonrobust                                         \n",
       "=================================================================================\n",
       "                    coef    std err          t      P>|t|      [0.025      0.975]\n",
       "---------------------------------------------------------------------------------\n",
       "Intercept         0.7885      0.031     25.067      0.000       0.726       0.851\n",
       "pop_below_pov    -0.8722      0.084    -10.366      0.000      -1.038      -0.706\n",
       "==============================================================================\n",
       "Omnibus:                        2.912   Durbin-Watson:                   1.979\n",
       "Prob(Omnibus):                  0.233   Jarque-Bera (JB):                2.478\n",
       "Skew:                          -0.204   Prob(JB):                        0.290\n",
       "Kurtosis:                       2.528   Cond. No.                         5.24\n",
       "==============================================================================\n",
       "\n",
       "Warnings:\n",
       "[1] Standard Errors assume that the covariance matrix of the errors is correctly specified.\n",
       "\"\"\""
      ]
     },
     "execution_count": 1242,
     "metadata": {},
     "output_type": "execute_result"
    }
   ],
   "source": [
    "y, X = patsy.dmatrices('internet_users ~ pop_below_pov', data=df_train_scaled, return_type=\"dataframe\")\n",
    "\n",
    "model = sm.OLS(y, X)\n",
    "fit = model.fit()\n",
    "\n",
    "fit.summary()"
   ]
  },
  {
   "cell_type": "code",
   "execution_count": 1243,
   "metadata": {},
   "outputs": [
    {
     "data": {
      "text/plain": [
       "<matplotlib.collections.PathCollection at 0x1c2f74d198>"
      ]
     },
     "execution_count": 1243,
     "metadata": {},
     "output_type": "execute_result"
    },
    {
     "data": {
      "image/png": "[encoded data removed]",
      "text/plain": [
       "<Figure size 432x288 with 1 Axes>"
      ]
     },
     "metadata": {},
     "output_type": "display_data"
    }
   ],
   "source": [
    "plt.scatter(X.pop_below_pov,y)\n",
    "plt.scatter(X.pop_below_pov,fit.predict(X))"
   ]
  },
  {
   "cell_type": "code",
   "execution_count": 1244,
   "metadata": {},
   "outputs": [],
   "source": [
    "# Standardise the data by compressing it between 0 and 1.\n",
    "\n",
    "scaler = MinMaxScaler()\n",
    "scaler.fit(df_train)\n",
    "df_train_scaled = pd.DataFrame(scaler.transform(df_train))\n",
    "df_train_scaled.columns = df_train.columns\n",
    "df_train_scaled.index = df_train.index\n",
    "\n",
    "df_train_scaled.head()\n",
    "\n",
    "\n",
    "# Standardide the test data by transforming using the fit from the train data.\n",
    "\n",
    "df_test_scaled = pd.DataFrame(scaler.transform(df_test))\n",
    "df_test_scaled.columns = df_test.columns\n",
    "df_test_scaled.index = df_test.index\n",
    "\n",
    "df_test_scaled.head()\n",
    "\n",
    "y_train = df_train_scaled.internet_users\n",
    "X_train = df_train_scaled.drop(columns=['internet_users'])\n",
    "\n",
    "y_test = df_test_scaled.internet_users\n",
    "X_test = df_test_scaled.drop(columns=['internet_users'])\n"
   ]
  },
  {
   "cell_type": "code",
   "execution_count": 1304,
   "metadata": {},
   "outputs": [],
   "source": [
    "# Import in the data and only take features which we have selected. Drop nans and split into training and test data.\n",
    "\n",
    "with open(\"initial_df.pkl\", 'rb') as picklefile: \n",
    "    df = pickle.load(picklefile)\n",
    "  \n",
    "df.loc['Hong Kong']['internet_users'] = 6000000.0\n",
    "df.loc['Taiwan']['internet_users'] = 20600000.0\n",
    "df.loc['West Bank']['internet_users'] = 2600000.0\n",
    "df.loc['European Union']['internet_users'] = 398000000.0\n",
    "df.loc['Iran']['internet_users'] = 36000000.0\n",
    "df.loc['Vietnam']['internet_users'] = 49700000.0\n",
    "df.loc['Congo, Democratic Republic of the']['internet_users'] = 3000000\n",
    "df.loc['Laos']['internet_users'] = 1300000\n",
    "\n",
    "\n",
    "\n",
    "df['internet_users'] = df['internet_users']/df['population']\n",
    "df = df[['internet_users','agr','gdp_per_capita', 'border_internet_scaled', 'pop_below_pov']]\n"
   ]
  },
  {
   "cell_type": "code",
   "execution_count": 1305,
   "metadata": {},
   "outputs": [],
   "source": [
    "# Manually filling nans for population below poverty\n",
    "\n",
    "df.loc['Australia']['pop_below_pov'] = 13.13\n",
    "df.loc['Antigua and Barbuda']['pop_below_pov'] = 22.0\n",
    "df.loc['Bahrain']['pop_below_pov'] = 80000.0/1400000.0\n",
    "df.loc['Barbados']['pop_below_pov'] = 13.9\n",
    "df.loc['Brunei']['pop_below_pov'] = 1000/423196.0\n",
    "df.loc['British Virgin Islands']['pop_below_pov'] = 22.0\n",
    "df.loc['Cayman Islands']['pop_below_pov'] = 1.9\n",
    "df.loc['Cyprus']['pop_below_pov'] = 16.0\n",
    "df.loc['Finland']['pop_below_pov'] = 6.0\n",
    "df.loc['Guernsey']['pop_below_pov'] = 20.0\n",
    "df.loc['Iceland']['pop_below_pov'] = 8.0\n",
    "df.loc['Korea, North']['pop_below_pov'] = 40.0\n",
    "df.loc['Kuwait']['pop_below_pov'] = 7.0\n",
    "df.loc['Libya']['pop_below_pov'] = 40.0\n",
    "df.loc['Liechtenstein']['pop_below_pov'] = 10.0\n",
    "df.loc['Luxembourg']['pop_below_pov'] = 15.0\n",
    "df.loc['Macau']['pop_below_pov'] = 10.0\n",
    "df.loc['Marshall Islands']['pop_below_pov'] = 30.0\n",
    "df.loc['Monaco']['pop_below_pov'] = 0.0\n",
    "df.loc['Montserrat']['pop_below_pov'] = 25.0\n",
    "df.loc['Nauru']['pop_below_pov'] = 24.0\n",
    "df.loc['New Zealand']['pop_below_pov'] = 15.0\n",
    "df.loc['Northern Mariana Islands']['pop_below_pov'] = 50.0\n",
    "df.loc['Norway']['pop_below_pov'] = 7.5\n",
    "df.loc['Puerto Rico']['pop_below_pov'] = 43.0\n",
    "df.loc['Qatar']['pop_below_pov'] = 0.0\n",
    "df.loc['Saint Kitts and Nevis']['pop_below_pov'] = 20.0\n",
    "df.loc['Saint Lucia']['pop_below_pov'] = 15.0\n",
    "df.loc['Saint Vincent and the Grenadines']['pop_below_pov'] = 20.0\n",
    "df.loc['Samoa']['pop_below_pov'] = 18.8\n",
    "df.loc['Saudi Arabia']['pop_below_pov'] = 12.7\n",
    "df.loc['Singapore']['pop_below_pov'] = 20.0\n",
    "df.loc['Solomon Islands']['pop_below_pov'] = 12.7\n",
    "df.loc['Somalia']['pop_below_pov'] = 60.0\n",
    "df.loc['Vanuatu']['pop_below_pov'] = 12.7\n"
   ]
  },
  {
   "cell_type": "code",
   "execution_count": 1306,
   "metadata": {},
   "outputs": [],
   "source": [
    "df = df.dropna()\n",
    "df['agr']=df['agr'].replace(0,0.0000001)\n",
    "df_train,df_test = train_test_split(df, test_size=0.2, random_state = 2)"
   ]
  },
  {
   "cell_type": "code",
   "execution_count": 1307,
   "metadata": {},
   "outputs": [],
   "source": [
    "# Standardise the data by compressing it between 0 and 1.\n",
    "\n",
    "scaler = MinMaxScaler()\n",
    "scaler.fit(df_train)\n",
    "df_train_scaled = pd.DataFrame(scaler.transform(df_train))\n",
    "df_train_scaled.columns = df_train.columns\n",
    "df_train_scaled.index = df_train.index\n",
    "\n",
    "df_train_scaled.head()\n",
    "\n",
    "\n",
    "# Standardide the test data by transforming using the fit from the train data.\n",
    "\n",
    "df_test_scaled = pd.DataFrame(scaler.transform(df_test))\n",
    "df_test_scaled.columns = df_test.columns\n",
    "df_test_scaled.index = df_test.index\n",
    "\n",
    "df_test_scaled.head()\n",
    "\n",
    "y_test = df_test_scaled.internet_users\n",
    "X_test = df_test_scaled.drop(columns=['internet_users'])\n"
   ]
  },
  {
   "cell_type": "code",
   "execution_count": 1308,
   "metadata": {},
   "outputs": [
    {
     "data": {
      "text/html": [
       "<table class=\"simpletable\">\n",
       "<caption>OLS Regression Results</caption>\n",
       "<tr>\n",
       "  <th>Dep. Variable:</th>     <td>internet_users</td>  <th>  R-squared:         </th> <td>   0.764</td>\n",
       "</tr>\n",
       "<tr>\n",
       "  <th>Model:</th>                   <td>OLS</td>       <th>  Adj. R-squared:    </th> <td>   0.757</td>\n",
       "</tr>\n",
       "<tr>\n",
       "  <th>Method:</th>             <td>Least Squares</td>  <th>  F-statistic:       </th> <td>   119.5</td>\n",
       "</tr>\n",
       "<tr>\n",
       "  <th>Date:</th>             <td>Wed, 10 Oct 2018</td> <th>  Prob (F-statistic):</th> <td>2.61e-45</td>\n",
       "</tr>\n",
       "<tr>\n",
       "  <th>Time:</th>                 <td>22:19:05</td>     <th>  Log-Likelihood:    </th> <td>  85.595</td>\n",
       "</tr>\n",
       "<tr>\n",
       "  <th>No. Observations:</th>      <td>   153</td>      <th>  AIC:               </th> <td>  -161.2</td>\n",
       "</tr>\n",
       "<tr>\n",
       "  <th>Df Residuals:</th>          <td>   148</td>      <th>  BIC:               </th> <td>  -146.0</td>\n",
       "</tr>\n",
       "<tr>\n",
       "  <th>Df Model:</th>              <td>     4</td>      <th>                     </th>     <td> </td>   \n",
       "</tr>\n",
       "<tr>\n",
       "  <th>Covariance Type:</th>      <td>nonrobust</td>    <th>                     </th>     <td> </td>   \n",
       "</tr>\n",
       "</table>\n",
       "<table class=\"simpletable\">\n",
       "<tr>\n",
       "             <td></td>               <th>coef</th>     <th>std err</th>      <th>t</th>      <th>P>|t|</th>  <th>[0.025</th>    <th>0.975]</th>  \n",
       "</tr>\n",
       "<tr>\n",
       "  <th>Intercept</th>              <td>    0.5227</td> <td>    0.042</td> <td>   12.302</td> <td> 0.000</td> <td>    0.439</td> <td>    0.607</td>\n",
       "</tr>\n",
       "<tr>\n",
       "  <th>gdp_per_capita</th>         <td>    0.5014</td> <td>    0.082</td> <td>    6.142</td> <td> 0.000</td> <td>    0.340</td> <td>    0.663</td>\n",
       "</tr>\n",
       "<tr>\n",
       "  <th>agr</th>                    <td>   -0.4741</td> <td>    0.078</td> <td>   -6.070</td> <td> 0.000</td> <td>   -0.628</td> <td>   -0.320</td>\n",
       "</tr>\n",
       "<tr>\n",
       "  <th>border_internet_scaled</th> <td>    0.2287</td> <td>    0.055</td> <td>    4.126</td> <td> 0.000</td> <td>    0.119</td> <td>    0.338</td>\n",
       "</tr>\n",
       "<tr>\n",
       "  <th>pop_below_pov</th>          <td>   -0.3673</td> <td>    0.067</td> <td>   -5.453</td> <td> 0.000</td> <td>   -0.500</td> <td>   -0.234</td>\n",
       "</tr>\n",
       "</table>\n",
       "<table class=\"simpletable\">\n",
       "<tr>\n",
       "  <th>Omnibus:</th>       <td> 1.359</td> <th>  Durbin-Watson:     </th> <td>   2.160</td>\n",
       "</tr>\n",
       "<tr>\n",
       "  <th>Prob(Omnibus):</th> <td> 0.507</td> <th>  Jarque-Bera (JB):  </th> <td>   1.007</td>\n",
       "</tr>\n",
       "<tr>\n",
       "  <th>Skew:</th>          <td>-0.181</td> <th>  Prob(JB):          </th> <td>   0.604</td>\n",
       "</tr>\n",
       "<tr>\n",
       "  <th>Kurtosis:</th>      <td> 3.165</td> <th>  Cond. No.          </th> <td>    9.83</td>\n",
       "</tr>\n",
       "</table><br/><br/>Warnings:<br/>[1] Standard Errors assume that the covariance matrix of the errors is correctly specified."
      ],
      "text/plain": [
       "<class 'statsmodels.iolib.summary.Summary'>\n",
       "\"\"\"\n",
       "                            OLS Regression Results                            \n",
       "==============================================================================\n",
       "Dep. Variable:         internet_users   R-squared:                       0.764\n",
       "Model:                            OLS   Adj. R-squared:                  0.757\n",
       "Method:                 Least Squares   F-statistic:                     119.5\n",
       "Date:                Wed, 10 Oct 2018   Prob (F-statistic):           2.61e-45\n",
       "Time:                        22:19:05   Log-Likelihood:                 85.595\n",
       "No. Observations:                 153   AIC:                            -161.2\n",
       "Df Residuals:                     148   BIC:                            -146.0\n",
       "Df Model:                           4                                         \n",
       "Covariance Type:            nonrobust                                         \n",
       "==========================================================================================\n",
       "                             coef    std err          t      P>|t|      [0.025      0.975]\n",
       "------------------------------------------------------------------------------------------\n",
       "Intercept                  0.5227      0.042     12.302      0.000       0.439       0.607\n",
       "gdp_per_capita             0.5014      0.082      6.142      0.000       0.340       0.663\n",
       "agr                       -0.4741      0.078     -6.070      0.000      -0.628      -0.320\n",
       "border_internet_scaled     0.2287      0.055      4.126      0.000       0.119       0.338\n",
       "pop_below_pov             -0.3673      0.067     -5.453      0.000      -0.500      -0.234\n",
       "==============================================================================\n",
       "Omnibus:                        1.359   Durbin-Watson:                   2.160\n",
       "Prob(Omnibus):                  0.507   Jarque-Bera (JB):                1.007\n",
       "Skew:                          -0.181   Prob(JB):                        0.604\n",
       "Kurtosis:                       3.165   Cond. No.                         9.83\n",
       "==============================================================================\n",
       "\n",
       "Warnings:\n",
       "[1] Standard Errors assume that the covariance matrix of the errors is correctly specified.\n",
       "\"\"\""
      ]
     },
     "execution_count": 1308,
     "metadata": {},
     "output_type": "execute_result"
    }
   ],
   "source": [
    "y, X = patsy.dmatrices('internet_users ~ gdp_per_capita + agr + border_internet_scaled + pop_below_pov', data=df_train_scaled, return_type=\"dataframe\")\n",
    "\n",
    "model = sm.OLS(y, X)\n",
    "fit = model.fit()\n",
    "\n",
    "fit.summary()"
   ]
  },
  {
   "cell_type": "code",
   "execution_count": 1309,
   "metadata": {},
   "outputs": [
    {
     "name": "stdout",
     "output_type": "stream",
     "text": [
      "0.12247649072288168\n"
     ]
    },
    {
     "data": {
      "image/png": "[encoded data removed]",
      "text/plain": [
       "<Figure size 432x288 with 1 Axes>"
      ]
     },
     "metadata": {},
     "output_type": "display_data"
    }
   ],
   "source": [
    "# Transform gdp_per_capita only\n",
    "\n",
    "from scipy import stats\n",
    "\n",
    "\n",
    "\n",
    "lamb=stats.boxcox_normmax(df_train.gdp_per_capita)\n",
    "print(lamb)\n",
    "gdp_train =(np.power(df_train.gdp_per_capita,lamb)-1)/lamb\n",
    "gdp_test = (np.power(df_test.gdp_per_capita,lamb)-1)/lamb\n",
    "\n",
    "plt.hist(gdp_train);"
   ]
  },
  {
   "cell_type": "code",
   "execution_count": 1310,
   "metadata": {},
   "outputs": [
    {
     "name": "stderr",
     "output_type": "stream",
     "text": [
      "/Users/nazim/anaconda3/lib/python3.6/site-packages/pandas/core/indexing.py:630: SettingWithCopyWarning: \n",
      "A value is trying to be set on a copy of a slice from a DataFrame.\n",
      "Try using .loc[row_indexer,col_indexer] = value instead\n",
      "\n",
      "See the caveats in the documentation: http://pandas.pydata.org/pandas-docs/stable/indexing.html#indexing-view-versus-copy\n",
      "  self.obj[item_labels[indexer[info_axis]]] = value\n"
     ]
    }
   ],
   "source": [
    "df_train.loc[:,'gdp_per_capita'] = gdp_train.copy()\n",
    "df_test.loc[:,'gdp_per_capita'] = gdp_test.copy()"
   ]
  },
  {
   "cell_type": "code",
   "execution_count": 1311,
   "metadata": {},
   "outputs": [],
   "source": [
    "# Standardise the data by compressing it between 0 and 1.\n",
    "\n",
    "scaler = MinMaxScaler()\n",
    "scaler.fit(df_train)\n",
    "df_train_scaled = pd.DataFrame(scaler.transform(df_train))\n",
    "df_train_scaled.columns = df_train.columns\n",
    "df_train_scaled.index = df_train.index\n",
    "\n",
    "df_train_scaled.head()\n",
    "\n",
    "\n",
    "# Standardide the test data by transforming using the fit from the train data.\n",
    "\n",
    "df_test_scaled = pd.DataFrame(scaler.transform(df_test))\n",
    "df_test_scaled.columns = df_test.columns\n",
    "df_test_scaled.index = df_test.index\n",
    "\n",
    "df_test_scaled.head()\n",
    "\n",
    "y_test = df_test_scaled.internet_users\n",
    "X_test = df_test_scaled.drop(columns=['internet_users'])\n"
   ]
  },
  {
   "cell_type": "code",
   "execution_count": 77,
   "metadata": {},
   "outputs": [
    {
     "data": {
      "text/html": [
       "<table class=\"simpletable\">\n",
       "<caption>OLS Regression Results</caption>\n",
       "<tr>\n",
       "  <th>Dep. Variable:</th>     <td>internet_users</td>  <th>  R-squared:         </th> <td>   0.806</td>\n",
       "</tr>\n",
       "<tr>\n",
       "  <th>Model:</th>                   <td>OLS</td>       <th>  Adj. R-squared:    </th> <td>   0.801</td>\n",
       "</tr>\n",
       "<tr>\n",
       "  <th>Method:</th>             <td>Least Squares</td>  <th>  F-statistic:       </th> <td>   153.5</td>\n",
       "</tr>\n",
       "<tr>\n",
       "  <th>Date:</th>             <td>Thu, 11 Oct 2018</td> <th>  Prob (F-statistic):</th> <td>1.29e-51</td>\n",
       "</tr>\n",
       "<tr>\n",
       "  <th>Time:</th>                 <td>17:31:50</td>     <th>  Log-Likelihood:    </th> <td>  100.84</td>\n",
       "</tr>\n",
       "<tr>\n",
       "  <th>No. Observations:</th>      <td>   153</td>      <th>  AIC:               </th> <td>  -191.7</td>\n",
       "</tr>\n",
       "<tr>\n",
       "  <th>Df Residuals:</th>          <td>   148</td>      <th>  BIC:               </th> <td>  -176.5</td>\n",
       "</tr>\n",
       "<tr>\n",
       "  <th>Df Model:</th>              <td>     4</td>      <th>                     </th>     <td> </td>   \n",
       "</tr>\n",
       "<tr>\n",
       "  <th>Covariance Type:</th>      <td>nonrobust</td>    <th>                     </th>     <td> </td>   \n",
       "</tr>\n",
       "</table>\n",
       "<table class=\"simpletable\">\n",
       "<tr>\n",
       "             <td></td>               <th>coef</th>     <th>std err</th>      <th>t</th>      <th>P>|t|</th>  <th>[0.025</th>    <th>0.975]</th>  \n",
       "</tr>\n",
       "<tr>\n",
       "  <th>Intercept</th>              <td>    0.1176</td> <td>    0.107</td> <td>    1.102</td> <td> 0.272</td> <td>   -0.093</td> <td>    0.329</td>\n",
       "</tr>\n",
       "<tr>\n",
       "  <th>gdp_per_capita</th>         <td>    0.8600</td> <td>    0.111</td> <td>    7.759</td> <td> 0.000</td> <td>    0.641</td> <td>    1.079</td>\n",
       "</tr>\n",
       "<tr>\n",
       "  <th>agr</th>                    <td>   -0.0513</td> <td>    0.105</td> <td>   -0.487</td> <td> 0.627</td> <td>   -0.259</td> <td>    0.157</td>\n",
       "</tr>\n",
       "<tr>\n",
       "  <th>border_internet_scaled</th> <td>    0.1642</td> <td>    0.053</td> <td>    3.086</td> <td> 0.002</td> <td>    0.059</td> <td>    0.269</td>\n",
       "</tr>\n",
       "<tr>\n",
       "  <th>pop_below_pov</th>          <td>   -0.1637</td> <td>    0.065</td> <td>   -2.512</td> <td> 0.013</td> <td>   -0.293</td> <td>   -0.035</td>\n",
       "</tr>\n",
       "</table>\n",
       "<table class=\"simpletable\">\n",
       "<tr>\n",
       "  <th>Omnibus:</th>       <td> 6.745</td> <th>  Durbin-Watson:     </th> <td>   1.928</td>\n",
       "</tr>\n",
       "<tr>\n",
       "  <th>Prob(Omnibus):</th> <td> 0.034</td> <th>  Jarque-Bera (JB):  </th> <td>   6.363</td>\n",
       "</tr>\n",
       "<tr>\n",
       "  <th>Skew:</th>          <td>-0.448</td> <th>  Prob(JB):          </th> <td>  0.0415</td>\n",
       "</tr>\n",
       "<tr>\n",
       "  <th>Kurtosis:</th>      <td> 3.442</td> <th>  Cond. No.          </th> <td>    23.8</td>\n",
       "</tr>\n",
       "</table><br/><br/>Warnings:<br/>[1] Standard Errors assume that the covariance matrix of the errors is correctly specified."
      ],
      "text/plain": [
       "<class 'statsmodels.iolib.summary.Summary'>\n",
       "\"\"\"\n",
       "                            OLS Regression Results                            \n",
       "==============================================================================\n",
       "Dep. Variable:         internet_users   R-squared:                       0.806\n",
       "Model:                            OLS   Adj. R-squared:                  0.801\n",
       "Method:                 Least Squares   F-statistic:                     153.5\n",
       "Date:                Thu, 11 Oct 2018   Prob (F-statistic):           1.29e-51\n",
       "Time:                        17:31:50   Log-Likelihood:                 100.84\n",
       "No. Observations:                 153   AIC:                            -191.7\n",
       "Df Residuals:                     148   BIC:                            -176.5\n",
       "Df Model:                           4                                         \n",
       "Covariance Type:            nonrobust                                         \n",
       "==========================================================================================\n",
       "                             coef    std err          t      P>|t|      [0.025      0.975]\n",
       "------------------------------------------------------------------------------------------\n",
       "Intercept                  0.1176      0.107      1.102      0.272      -0.093       0.329\n",
       "gdp_per_capita             0.8600      0.111      7.759      0.000       0.641       1.079\n",
       "agr                       -0.0513      0.105     -0.487      0.627      -0.259       0.157\n",
       "border_internet_scaled     0.1642      0.053      3.086      0.002       0.059       0.269\n",
       "pop_below_pov             -0.1637      0.065     -2.512      0.013      -0.293      -0.035\n",
       "==============================================================================\n",
       "Omnibus:                        6.745   Durbin-Watson:                   1.928\n",
       "Prob(Omnibus):                  0.034   Jarque-Bera (JB):                6.363\n",
       "Skew:                          -0.448   Prob(JB):                       0.0415\n",
       "Kurtosis:                       3.442   Cond. No.                         23.8\n",
       "==============================================================================\n",
       "\n",
       "Warnings:\n",
       "[1] Standard Errors assume that the covariance matrix of the errors is correctly specified.\n",
       "\"\"\""
      ]
     },
     "execution_count": 77,
     "metadata": {},
     "output_type": "execute_result"
    }
   ],
   "source": [
    "y, X = patsy.dmatrices('internet_users ~ gdp_per_capita+ agr + border_internet_scaled + pop_below_pov', data=df_train_scaled, return_type=\"dataframe\")\n",
    "\n",
    "model = sm.OLS(y, X)\n",
    "fit = model.fit()\n",
    "\n",
    "fit.summary()"
   ]
  },
  {
   "cell_type": "code",
   "execution_count": 1313,
   "metadata": {},
   "outputs": [],
   "source": [
    "# Get X and y from the training data\n",
    "\n",
    "y = df_train_scaled.internet_users\n",
    "X = df_train_scaled.drop(columns=['internet_users'])\n",
    "\n",
    "y_test = df_test_scaled.internet_users\n",
    "X_test = df_test_scaled.drop(columns=['internet_users'])"
   ]
  },
  {
   "cell_type": "code",
   "execution_count": 1314,
   "metadata": {},
   "outputs": [
    {
     "name": "stdout",
     "output_type": "stream",
     "text": [
      "0.08107412157422249\n",
      "0.017703672832573875\n",
      "0.01932634816491922\n",
      "0.026893669548636995\n",
      "0.6581351603404398\n"
     ]
    },
    {
     "data": {
      "text/plain": [
       "[<matplotlib.lines.Line2D at 0x1c2fbca828>]"
      ]
     },
     "execution_count": 1314,
     "metadata": {},
     "output_type": "execute_result"
    },
    {
     "data": {
      "image/png": "[encoded data removed]",
      "text/plain": [
       "<Figure size 432x288 with 1 Axes>"
      ]
     },
     "metadata": {},
     "output_type": "display_data"
    }
   ],
   "source": [
    "# Looping over different polynomial values to find degree with best mean squared error and r2 values. \n",
    "# We found that a linear combination is the best\n",
    "\n",
    "\n",
    "mse_degree = []\n",
    "train_degree = []\n",
    "\n",
    "for i in range(0,5):\n",
    "    \n",
    "    # Cross validation\n",
    "    poly = PolynomialFeatures(degree=i)\n",
    "    X2 = poly.fit_transform(X)\n",
    "    reg = LinearRegression()\n",
    "    scores = cross_val_score(reg, X2, y, cv=10, scoring='neg_mean_squared_error')   \n",
    "    mse_degree.append(np.mean(-scores))\n",
    "    print(np.mean(-scores))\n",
    "    \n",
    "    # Only on one training\n",
    "    reg.fit(X2,y)\n",
    "    training_error = mean_squared_error(y, reg.predict(X2))\n",
    "    train_degree.append(training_error)\n",
    "       \n",
    "plt.plot(mse_degree)\n",
    "plt.plot(train_degree)\n",
    "\n",
    "# Best result from linear model( we can try regulari)"
   ]
  },
  {
   "cell_type": "code",
   "execution_count": 1315,
   "metadata": {},
   "outputs": [
    {
     "name": "stdout",
     "output_type": "stream",
     "text": [
      "0\n",
      "0.01932828760439487\n",
      "0.001\n",
      "0.01764890991353697\n",
      "0.01\n",
      "0.018451322413984894\n",
      "1\n",
      "0.08107412157422249\n",
      "10\n",
      "0.08107412157422249\n",
      "100\n",
      "0.08107412157422249\n"
     ]
    },
    {
     "name": "stderr",
     "output_type": "stream",
     "text": [
      "/Users/nazim/anaconda3/lib/python3.6/site-packages/sklearn/pipeline.py:250: UserWarning: With alpha=0, this algorithm does not converge well. You are advised to use the LinearRegression estimator\n",
      "  self._final_estimator.fit(Xt, y, **fit_params)\n",
      "/Users/nazim/anaconda3/lib/python3.6/site-packages/sklearn/linear_model/coordinate_descent.py:477: UserWarning: Coordinate descent with no regularization may lead to unexpected results and is discouraged.\n",
      "  positive)\n",
      "/Users/nazim/anaconda3/lib/python3.6/site-packages/sklearn/linear_model/coordinate_descent.py:491: ConvergenceWarning: Objective did not converge. You might want to increase the number of iterations. Fitting data with very small alpha may cause precision problems.\n",
      "  ConvergenceWarning)\n",
      "/Users/nazim/anaconda3/lib/python3.6/site-packages/sklearn/pipeline.py:250: UserWarning: With alpha=0, this algorithm does not converge well. You are advised to use the LinearRegression estimator\n",
      "  self._final_estimator.fit(Xt, y, **fit_params)\n",
      "/Users/nazim/anaconda3/lib/python3.6/site-packages/sklearn/linear_model/coordinate_descent.py:477: UserWarning: Coordinate descent with no regularization may lead to unexpected results and is discouraged.\n",
      "  positive)\n",
      "/Users/nazim/anaconda3/lib/python3.6/site-packages/sklearn/linear_model/coordinate_descent.py:491: ConvergenceWarning: Objective did not converge. You might want to increase the number of iterations. Fitting data with very small alpha may cause precision problems.\n",
      "  ConvergenceWarning)\n",
      "/Users/nazim/anaconda3/lib/python3.6/site-packages/sklearn/pipeline.py:250: UserWarning: With alpha=0, this algorithm does not converge well. You are advised to use the LinearRegression estimator\n",
      "  self._final_estimator.fit(Xt, y, **fit_params)\n",
      "/Users/nazim/anaconda3/lib/python3.6/site-packages/sklearn/linear_model/coordinate_descent.py:477: UserWarning: Coordinate descent with no regularization may lead to unexpected results and is discouraged.\n",
      "  positive)\n",
      "/Users/nazim/anaconda3/lib/python3.6/site-packages/sklearn/linear_model/coordinate_descent.py:491: ConvergenceWarning: Objective did not converge. You might want to increase the number of iterations. Fitting data with very small alpha may cause precision problems.\n",
      "  ConvergenceWarning)\n",
      "/Users/nazim/anaconda3/lib/python3.6/site-packages/sklearn/pipeline.py:250: UserWarning: With alpha=0, this algorithm does not converge well. You are advised to use the LinearRegression estimator\n",
      "  self._final_estimator.fit(Xt, y, **fit_params)\n",
      "/Users/nazim/anaconda3/lib/python3.6/site-packages/sklearn/linear_model/coordinate_descent.py:477: UserWarning: Coordinate descent with no regularization may lead to unexpected results and is discouraged.\n",
      "  positive)\n",
      "/Users/nazim/anaconda3/lib/python3.6/site-packages/sklearn/linear_model/coordinate_descent.py:491: ConvergenceWarning: Objective did not converge. You might want to increase the number of iterations. Fitting data with very small alpha may cause precision problems.\n",
      "  ConvergenceWarning)\n",
      "/Users/nazim/anaconda3/lib/python3.6/site-packages/sklearn/pipeline.py:250: UserWarning: With alpha=0, this algorithm does not converge well. You are advised to use the LinearRegression estimator\n",
      "  self._final_estimator.fit(Xt, y, **fit_params)\n",
      "/Users/nazim/anaconda3/lib/python3.6/site-packages/sklearn/linear_model/coordinate_descent.py:477: UserWarning: Coordinate descent with no regularization may lead to unexpected results and is discouraged.\n",
      "  positive)\n",
      "/Users/nazim/anaconda3/lib/python3.6/site-packages/sklearn/linear_model/coordinate_descent.py:491: ConvergenceWarning: Objective did not converge. You might want to increase the number of iterations. Fitting data with very small alpha may cause precision problems.\n",
      "  ConvergenceWarning)\n",
      "/Users/nazim/anaconda3/lib/python3.6/site-packages/sklearn/pipeline.py:250: UserWarning: With alpha=0, this algorithm does not converge well. You are advised to use the LinearRegression estimator\n",
      "  self._final_estimator.fit(Xt, y, **fit_params)\n",
      "/Users/nazim/anaconda3/lib/python3.6/site-packages/sklearn/linear_model/coordinate_descent.py:477: UserWarning: Coordinate descent with no regularization may lead to unexpected results and is discouraged.\n",
      "  positive)\n",
      "/Users/nazim/anaconda3/lib/python3.6/site-packages/sklearn/linear_model/coordinate_descent.py:491: ConvergenceWarning: Objective did not converge. You might want to increase the number of iterations. Fitting data with very small alpha may cause precision problems.\n",
      "  ConvergenceWarning)\n",
      "/Users/nazim/anaconda3/lib/python3.6/site-packages/sklearn/pipeline.py:250: UserWarning: With alpha=0, this algorithm does not converge well. You are advised to use the LinearRegression estimator\n",
      "  self._final_estimator.fit(Xt, y, **fit_params)\n",
      "/Users/nazim/anaconda3/lib/python3.6/site-packages/sklearn/linear_model/coordinate_descent.py:477: UserWarning: Coordinate descent with no regularization may lead to unexpected results and is discouraged.\n",
      "  positive)\n",
      "/Users/nazim/anaconda3/lib/python3.6/site-packages/sklearn/linear_model/coordinate_descent.py:491: ConvergenceWarning: Objective did not converge. You might want to increase the number of iterations. Fitting data with very small alpha may cause precision problems.\n",
      "  ConvergenceWarning)\n",
      "/Users/nazim/anaconda3/lib/python3.6/site-packages/sklearn/pipeline.py:250: UserWarning: With alpha=0, this algorithm does not converge well. You are advised to use the LinearRegression estimator\n",
      "  self._final_estimator.fit(Xt, y, **fit_params)\n",
      "/Users/nazim/anaconda3/lib/python3.6/site-packages/sklearn/linear_model/coordinate_descent.py:477: UserWarning: Coordinate descent with no regularization may lead to unexpected results and is discouraged.\n",
      "  positive)\n",
      "/Users/nazim/anaconda3/lib/python3.6/site-packages/sklearn/linear_model/coordinate_descent.py:491: ConvergenceWarning: Objective did not converge. You might want to increase the number of iterations. Fitting data with very small alpha may cause precision problems.\n",
      "  ConvergenceWarning)\n",
      "/Users/nazim/anaconda3/lib/python3.6/site-packages/sklearn/pipeline.py:250: UserWarning: With alpha=0, this algorithm does not converge well. You are advised to use the LinearRegression estimator\n",
      "  self._final_estimator.fit(Xt, y, **fit_params)\n",
      "/Users/nazim/anaconda3/lib/python3.6/site-packages/sklearn/linear_model/coordinate_descent.py:477: UserWarning: Coordinate descent with no regularization may lead to unexpected results and is discouraged.\n",
      "  positive)\n",
      "/Users/nazim/anaconda3/lib/python3.6/site-packages/sklearn/linear_model/coordinate_descent.py:491: ConvergenceWarning: Objective did not converge. You might want to increase the number of iterations. Fitting data with very small alpha may cause precision problems.\n",
      "  ConvergenceWarning)\n",
      "/Users/nazim/anaconda3/lib/python3.6/site-packages/sklearn/pipeline.py:250: UserWarning: With alpha=0, this algorithm does not converge well. You are advised to use the LinearRegression estimator\n",
      "  self._final_estimator.fit(Xt, y, **fit_params)\n",
      "/Users/nazim/anaconda3/lib/python3.6/site-packages/sklearn/linear_model/coordinate_descent.py:477: UserWarning: Coordinate descent with no regularization may lead to unexpected results and is discouraged.\n",
      "  positive)\n",
      "/Users/nazim/anaconda3/lib/python3.6/site-packages/sklearn/linear_model/coordinate_descent.py:491: ConvergenceWarning: Objective did not converge. You might want to increase the number of iterations. Fitting data with very small alpha may cause precision problems.\n",
      "  ConvergenceWarning)\n"
     ]
    }
   ],
   "source": [
    "# Perform regularization with degree 1\n",
    "\n",
    "from sklearn.cross_validation import KFold\n",
    "from sklearn.linear_model import ElasticNet\n",
    "from sklearn.pipeline import make_pipeline\n",
    "\n",
    "\n",
    "all_scores=[]\n",
    "#alphas= np.linspace(0.0001,0.01,11)\n",
    "alphas = [0,0.001,0.01,1,10,100]\n",
    "degree = 2\n",
    "\n",
    "for alpha in alphas:\n",
    "    \n",
    "    est = make_pipeline(PolynomialFeatures(degree), ElasticNet(alpha=alpha))\n",
    "    scores = cross_val_score(est, X, y, cv=10, scoring='neg_mean_squared_error')\n",
    "    print(alpha)\n",
    "    print(np.mean(-scores))\n",
    "    \n",
    "    \n",
    "# We don't need regularization here"
   ]
  },
  {
   "cell_type": "code",
   "execution_count": 1316,
   "metadata": {},
   "outputs": [
    {
     "data": {
      "text/plain": [
       "0.7893190777270175"
      ]
     },
     "execution_count": 1316,
     "metadata": {},
     "output_type": "execute_result"
    }
   ],
   "source": [
    "reg = LinearRegression()\n",
    "fit = reg.fit(X,y)\n",
    "\n",
    "sklearn.metrics.r2_score(y_test,fit.predict(X_test))"
   ]
  },
  {
   "cell_type": "code",
   "execution_count": 1317,
   "metadata": {},
   "outputs": [
    {
     "data": {
      "text/plain": [
       "array([ 0.70129896,  0.87471177,  0.66515254,  0.68683667,  0.47804109,\n",
       "        0.53481034,  0.90376128,  0.36344767,  0.69992419,  0.43685381,\n",
       "        0.33885518,  0.03697679,  0.31740961,  0.66422693,  0.58224445,\n",
       "        0.35313192,  0.40056691,  0.62877801,  0.13618246,  0.8367692 ,\n",
       "        0.59948913,  0.76707958,  0.7926305 ,  0.55547532,  0.4163148 ,\n",
       "        0.30080651,  0.62186679,  0.76901808,  0.25237565,  0.6251103 ,\n",
       "        0.25651877,  0.74097864,  0.19730709,  0.68057787,  0.25004316,\n",
       "       -0.07616296,  0.24289276,  0.7520236 ,  0.72826199])"
      ]
     },
     "execution_count": 1317,
     "metadata": {},
     "output_type": "execute_result"
    }
   ],
   "source": [
    "fit.predict(X_test)"
   ]
  },
  {
   "cell_type": "code",
   "execution_count": null,
   "metadata": {},
   "outputs": [],
   "source": []
  }
 ],
 "metadata": {
  "kernelspec": {
   "display_name": "Python 3",
   "language": "python",
   "name": "python3"
  },
  "language_info": {
   "codemirror_mode": {
    "name": "ipython",
    "version": 3
   },
   "file_extension": ".py",
   "mimetype": "text/x-python",
   "name": "python",
   "nbconvert_exporter": "python",
   "pygments_lexer": "ipython3",
   "version": "3.6.6"
  }
 },
 "nbformat": 4,
 "nbformat_minor": 2
}
